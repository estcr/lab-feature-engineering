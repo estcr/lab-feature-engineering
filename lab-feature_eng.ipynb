{
 "cells": [
  {
   "cell_type": "markdown",
   "metadata": {},
   "source": [
    "# LAB | Feature Engineering"
   ]
  },
  {
   "cell_type": "markdown",
   "metadata": {},
   "source": [
    "**Load the data**\n",
    "\n",
    "In this challenge, we will be working with the same Spaceship Titanic data, like the previous Lab. The data can be found here:\n",
    "\n",
    "https://raw.githubusercontent.com/data-bootcamp-v4/data/main/spaceship_titanic.csv\n",
    "\n",
    "Metadata\n",
    "\n",
    "https://github.com/data-bootcamp-v4/data/blob/main/spaceship_titanic.md"
   ]
  },
  {
   "cell_type": "code",
   "execution_count": 31,
   "metadata": {},
   "outputs": [],
   "source": [
    "#Libraries\n",
    "import pandas as pd\n",
    "import numpy as np\n",
    "from sklearn.model_selection import train_test_split"
   ]
  },
  {
   "cell_type": "code",
   "execution_count": 32,
   "metadata": {},
   "outputs": [
    {
     "data": {
      "text/html": [
       "<div>\n",
       "<style scoped>\n",
       "    .dataframe tbody tr th:only-of-type {\n",
       "        vertical-align: middle;\n",
       "    }\n",
       "\n",
       "    .dataframe tbody tr th {\n",
       "        vertical-align: top;\n",
       "    }\n",
       "\n",
       "    .dataframe thead th {\n",
       "        text-align: right;\n",
       "    }\n",
       "</style>\n",
       "<table border=\"1\" class=\"dataframe\">\n",
       "  <thead>\n",
       "    <tr style=\"text-align: right;\">\n",
       "      <th></th>\n",
       "      <th>PassengerId</th>\n",
       "      <th>HomePlanet</th>\n",
       "      <th>CryoSleep</th>\n",
       "      <th>Cabin</th>\n",
       "      <th>Destination</th>\n",
       "      <th>Age</th>\n",
       "      <th>VIP</th>\n",
       "      <th>RoomService</th>\n",
       "      <th>FoodCourt</th>\n",
       "      <th>ShoppingMall</th>\n",
       "      <th>Spa</th>\n",
       "      <th>VRDeck</th>\n",
       "      <th>Name</th>\n",
       "      <th>Transported</th>\n",
       "    </tr>\n",
       "  </thead>\n",
       "  <tbody>\n",
       "    <tr>\n",
       "      <th>0</th>\n",
       "      <td>0001_01</td>\n",
       "      <td>Europa</td>\n",
       "      <td>False</td>\n",
       "      <td>B/0/P</td>\n",
       "      <td>TRAPPIST-1e</td>\n",
       "      <td>39.0</td>\n",
       "      <td>False</td>\n",
       "      <td>0.0</td>\n",
       "      <td>0.0</td>\n",
       "      <td>0.0</td>\n",
       "      <td>0.0</td>\n",
       "      <td>0.0</td>\n",
       "      <td>Maham Ofracculy</td>\n",
       "      <td>False</td>\n",
       "    </tr>\n",
       "    <tr>\n",
       "      <th>1</th>\n",
       "      <td>0002_01</td>\n",
       "      <td>Earth</td>\n",
       "      <td>False</td>\n",
       "      <td>F/0/S</td>\n",
       "      <td>TRAPPIST-1e</td>\n",
       "      <td>24.0</td>\n",
       "      <td>False</td>\n",
       "      <td>109.0</td>\n",
       "      <td>9.0</td>\n",
       "      <td>25.0</td>\n",
       "      <td>549.0</td>\n",
       "      <td>44.0</td>\n",
       "      <td>Juanna Vines</td>\n",
       "      <td>True</td>\n",
       "    </tr>\n",
       "    <tr>\n",
       "      <th>2</th>\n",
       "      <td>0003_01</td>\n",
       "      <td>Europa</td>\n",
       "      <td>False</td>\n",
       "      <td>A/0/S</td>\n",
       "      <td>TRAPPIST-1e</td>\n",
       "      <td>58.0</td>\n",
       "      <td>True</td>\n",
       "      <td>43.0</td>\n",
       "      <td>3576.0</td>\n",
       "      <td>0.0</td>\n",
       "      <td>6715.0</td>\n",
       "      <td>49.0</td>\n",
       "      <td>Altark Susent</td>\n",
       "      <td>False</td>\n",
       "    </tr>\n",
       "    <tr>\n",
       "      <th>3</th>\n",
       "      <td>0003_02</td>\n",
       "      <td>Europa</td>\n",
       "      <td>False</td>\n",
       "      <td>A/0/S</td>\n",
       "      <td>TRAPPIST-1e</td>\n",
       "      <td>33.0</td>\n",
       "      <td>False</td>\n",
       "      <td>0.0</td>\n",
       "      <td>1283.0</td>\n",
       "      <td>371.0</td>\n",
       "      <td>3329.0</td>\n",
       "      <td>193.0</td>\n",
       "      <td>Solam Susent</td>\n",
       "      <td>False</td>\n",
       "    </tr>\n",
       "    <tr>\n",
       "      <th>4</th>\n",
       "      <td>0004_01</td>\n",
       "      <td>Earth</td>\n",
       "      <td>False</td>\n",
       "      <td>F/1/S</td>\n",
       "      <td>TRAPPIST-1e</td>\n",
       "      <td>16.0</td>\n",
       "      <td>False</td>\n",
       "      <td>303.0</td>\n",
       "      <td>70.0</td>\n",
       "      <td>151.0</td>\n",
       "      <td>565.0</td>\n",
       "      <td>2.0</td>\n",
       "      <td>Willy Santantines</td>\n",
       "      <td>True</td>\n",
       "    </tr>\n",
       "  </tbody>\n",
       "</table>\n",
       "</div>"
      ],
      "text/plain": [
       "  PassengerId HomePlanet CryoSleep  Cabin  Destination   Age    VIP  \\\n",
       "0     0001_01     Europa     False  B/0/P  TRAPPIST-1e  39.0  False   \n",
       "1     0002_01      Earth     False  F/0/S  TRAPPIST-1e  24.0  False   \n",
       "2     0003_01     Europa     False  A/0/S  TRAPPIST-1e  58.0   True   \n",
       "3     0003_02     Europa     False  A/0/S  TRAPPIST-1e  33.0  False   \n",
       "4     0004_01      Earth     False  F/1/S  TRAPPIST-1e  16.0  False   \n",
       "\n",
       "   RoomService  FoodCourt  ShoppingMall     Spa  VRDeck               Name  \\\n",
       "0          0.0        0.0           0.0     0.0     0.0    Maham Ofracculy   \n",
       "1        109.0        9.0          25.0   549.0    44.0       Juanna Vines   \n",
       "2         43.0     3576.0           0.0  6715.0    49.0      Altark Susent   \n",
       "3          0.0     1283.0         371.0  3329.0   193.0       Solam Susent   \n",
       "4        303.0       70.0         151.0   565.0     2.0  Willy Santantines   \n",
       "\n",
       "   Transported  \n",
       "0        False  \n",
       "1         True  \n",
       "2        False  \n",
       "3        False  \n",
       "4         True  "
      ]
     },
     "execution_count": 32,
     "metadata": {},
     "output_type": "execute_result"
    }
   ],
   "source": [
    "spaceship = pd.read_csv(\"https://raw.githubusercontent.com/data-bootcamp-v4/data/main/spaceship_titanic.csv\")\n",
    "spaceship.head()"
   ]
  },
  {
   "cell_type": "markdown",
   "metadata": {},
   "source": [
    "**Check the shape of your data**"
   ]
  },
  {
   "cell_type": "code",
   "execution_count": 33,
   "metadata": {},
   "outputs": [
    {
     "data": {
      "text/plain": [
       "(8693, 14)"
      ]
     },
     "execution_count": 33,
     "metadata": {},
     "output_type": "execute_result"
    }
   ],
   "source": [
    "spaceship.shape"
   ]
  },
  {
   "cell_type": "markdown",
   "metadata": {},
   "source": [
    "**Check for data types**"
   ]
  },
  {
   "cell_type": "code",
   "execution_count": 34,
   "metadata": {},
   "outputs": [
    {
     "data": {
      "text/plain": [
       "PassengerId      object\n",
       "HomePlanet       object\n",
       "CryoSleep        object\n",
       "Cabin            object\n",
       "Destination      object\n",
       "Age             float64\n",
       "VIP              object\n",
       "RoomService     float64\n",
       "FoodCourt       float64\n",
       "ShoppingMall    float64\n",
       "Spa             float64\n",
       "VRDeck          float64\n",
       "Name             object\n",
       "Transported        bool\n",
       "dtype: object"
      ]
     },
     "execution_count": 34,
     "metadata": {},
     "output_type": "execute_result"
    }
   ],
   "source": [
    "spaceship.dtypes"
   ]
  },
  {
   "cell_type": "markdown",
   "metadata": {},
   "source": [
    "**Check for missing values**"
   ]
  },
  {
   "cell_type": "code",
   "execution_count": 35,
   "metadata": {},
   "outputs": [
    {
     "data": {
      "text/plain": [
       "PassengerId       0\n",
       "HomePlanet      201\n",
       "CryoSleep       217\n",
       "Cabin           199\n",
       "Destination     182\n",
       "Age             179\n",
       "VIP             203\n",
       "RoomService     181\n",
       "FoodCourt       183\n",
       "ShoppingMall    208\n",
       "Spa             183\n",
       "VRDeck          188\n",
       "Name            200\n",
       "Transported       0\n",
       "dtype: int64"
      ]
     },
     "execution_count": 35,
     "metadata": {},
     "output_type": "execute_result"
    }
   ],
   "source": [
    "spaceship.isna().sum()"
   ]
  },
  {
   "cell_type": "markdown",
   "metadata": {},
   "source": [
    "There are multiple strategies to handle missing data\n",
    "\n",
    "- Removing all rows or all columns containing missing data.\n",
    "- Filling all missing values with a value (mean in continouos or mode in categorical for example).\n",
    "- Filling all missing values with an algorithm.\n",
    "\n",
    "For this exercise, because we have such low amount of null values, we will drop rows containing any missing value. "
   ]
  },
  {
   "cell_type": "code",
   "execution_count": 36,
   "metadata": {},
   "outputs": [],
   "source": [
    "spaceship=spaceship.dropna()"
   ]
  },
  {
   "cell_type": "markdown",
   "metadata": {},
   "source": [
    "- **Cabin** is too granular - transform it in order to obtain {'A', 'B', 'C', 'D', 'E', 'F', 'G', 'T'}"
   ]
  },
  {
   "cell_type": "code",
   "execution_count": 37,
   "metadata": {},
   "outputs": [],
   "source": [
    "# Extraer la letra antes de la primera barra usando regex\n",
    "spaceship['Cabin'] = spaceship['Cabin'].str.extract(r'^([A-Z])')"
   ]
  },
  {
   "cell_type": "code",
   "execution_count": 38,
   "metadata": {},
   "outputs": [
    {
     "data": {
      "text/plain": [
       "array(['B', 'F', 'A', 'G', 'E', 'C', 'D', 'T'], dtype=object)"
      ]
     },
     "execution_count": 38,
     "metadata": {},
     "output_type": "execute_result"
    }
   ],
   "source": [
    "spaceship[\"Cabin\"].unique()"
   ]
  },
  {
   "cell_type": "code",
   "execution_count": 39,
   "metadata": {},
   "outputs": [],
   "source": [
    "target=spaceship[\"Transported\"]"
   ]
  },
  {
   "cell_type": "markdown",
   "metadata": {},
   "source": [
    "- Drop PassengerId and Name"
   ]
  },
  {
   "cell_type": "code",
   "execution_count": 40,
   "metadata": {},
   "outputs": [],
   "source": [
    "spaceship= spaceship.drop(columns=[\"PassengerId\", \"Name\", \"Transported\"])"
   ]
  },
  {
   "cell_type": "code",
   "execution_count": 41,
   "metadata": {},
   "outputs": [
    {
     "name": "stdout",
     "output_type": "stream",
     "text": [
      "<class 'pandas.core.frame.DataFrame'>\n",
      "Index: 6606 entries, 0 to 8692\n",
      "Data columns (total 11 columns):\n",
      " #   Column        Non-Null Count  Dtype  \n",
      "---  ------        --------------  -----  \n",
      " 0   HomePlanet    6606 non-null   object \n",
      " 1   CryoSleep     6606 non-null   object \n",
      " 2   Cabin         6606 non-null   object \n",
      " 3   Destination   6606 non-null   object \n",
      " 4   Age           6606 non-null   float64\n",
      " 5   VIP           6606 non-null   object \n",
      " 6   RoomService   6606 non-null   float64\n",
      " 7   FoodCourt     6606 non-null   float64\n",
      " 8   ShoppingMall  6606 non-null   float64\n",
      " 9   Spa           6606 non-null   float64\n",
      " 10  VRDeck        6606 non-null   float64\n",
      "dtypes: float64(6), object(5)\n",
      "memory usage: 619.3+ KB\n"
     ]
    }
   ],
   "source": [
    "spaceship.info()"
   ]
  },
  {
   "cell_type": "code",
   "execution_count": 42,
   "metadata": {},
   "outputs": [
    {
     "data": {
      "text/plain": [
       "Index(['HomePlanet', 'CryoSleep', 'Cabin', 'Destination', 'Age', 'VIP',\n",
       "       'RoomService', 'FoodCourt', 'ShoppingMall', 'Spa', 'VRDeck'],\n",
       "      dtype='object')"
      ]
     },
     "execution_count": 42,
     "metadata": {},
     "output_type": "execute_result"
    }
   ],
   "source": [
    "spaceship.columns"
   ]
  },
  {
   "cell_type": "markdown",
   "metadata": {},
   "source": [
    "- For non-numerical columns, do dummies."
   ]
  },
  {
   "cell_type": "code",
   "execution_count": 43,
   "metadata": {},
   "outputs": [],
   "source": [
    "categorigal=['HomePlanet', 'CryoSleep', 'Cabin', 'Destination', 'VIP']\n",
    "numerical=['Age', 'RoomService', 'FoodCourt', 'ShoppingMall', 'Spa', 'VRDeck']"
   ]
  },
  {
   "cell_type": "code",
   "execution_count": 44,
   "metadata": {},
   "outputs": [],
   "source": [
    "spaceship = pd.get_dummies(spaceship, columns=[\"HomePlanet\",\"Cabin\", \"Destination\"])"
   ]
  },
  {
   "cell_type": "code",
   "execution_count": 45,
   "metadata": {},
   "outputs": [
    {
     "data": {
      "text/html": [
       "<div>\n",
       "<style scoped>\n",
       "    .dataframe tbody tr th:only-of-type {\n",
       "        vertical-align: middle;\n",
       "    }\n",
       "\n",
       "    .dataframe tbody tr th {\n",
       "        vertical-align: top;\n",
       "    }\n",
       "\n",
       "    .dataframe thead th {\n",
       "        text-align: right;\n",
       "    }\n",
       "</style>\n",
       "<table border=\"1\" class=\"dataframe\">\n",
       "  <thead>\n",
       "    <tr style=\"text-align: right;\">\n",
       "      <th></th>\n",
       "      <th>CryoSleep</th>\n",
       "      <th>Age</th>\n",
       "      <th>VIP</th>\n",
       "      <th>RoomService</th>\n",
       "      <th>FoodCourt</th>\n",
       "      <th>ShoppingMall</th>\n",
       "      <th>Spa</th>\n",
       "      <th>VRDeck</th>\n",
       "      <th>HomePlanet_Earth</th>\n",
       "      <th>HomePlanet_Europa</th>\n",
       "      <th>...</th>\n",
       "      <th>Cabin_B</th>\n",
       "      <th>Cabin_C</th>\n",
       "      <th>Cabin_D</th>\n",
       "      <th>Cabin_E</th>\n",
       "      <th>Cabin_F</th>\n",
       "      <th>Cabin_G</th>\n",
       "      <th>Cabin_T</th>\n",
       "      <th>Destination_55 Cancri e</th>\n",
       "      <th>Destination_PSO J318.5-22</th>\n",
       "      <th>Destination_TRAPPIST-1e</th>\n",
       "    </tr>\n",
       "  </thead>\n",
       "  <tbody>\n",
       "    <tr>\n",
       "      <th>0</th>\n",
       "      <td>False</td>\n",
       "      <td>39.0</td>\n",
       "      <td>False</td>\n",
       "      <td>0.0</td>\n",
       "      <td>0.0</td>\n",
       "      <td>0.0</td>\n",
       "      <td>0.0</td>\n",
       "      <td>0.0</td>\n",
       "      <td>False</td>\n",
       "      <td>True</td>\n",
       "      <td>...</td>\n",
       "      <td>True</td>\n",
       "      <td>False</td>\n",
       "      <td>False</td>\n",
       "      <td>False</td>\n",
       "      <td>False</td>\n",
       "      <td>False</td>\n",
       "      <td>False</td>\n",
       "      <td>False</td>\n",
       "      <td>False</td>\n",
       "      <td>True</td>\n",
       "    </tr>\n",
       "    <tr>\n",
       "      <th>1</th>\n",
       "      <td>False</td>\n",
       "      <td>24.0</td>\n",
       "      <td>False</td>\n",
       "      <td>109.0</td>\n",
       "      <td>9.0</td>\n",
       "      <td>25.0</td>\n",
       "      <td>549.0</td>\n",
       "      <td>44.0</td>\n",
       "      <td>True</td>\n",
       "      <td>False</td>\n",
       "      <td>...</td>\n",
       "      <td>False</td>\n",
       "      <td>False</td>\n",
       "      <td>False</td>\n",
       "      <td>False</td>\n",
       "      <td>True</td>\n",
       "      <td>False</td>\n",
       "      <td>False</td>\n",
       "      <td>False</td>\n",
       "      <td>False</td>\n",
       "      <td>True</td>\n",
       "    </tr>\n",
       "    <tr>\n",
       "      <th>2</th>\n",
       "      <td>False</td>\n",
       "      <td>58.0</td>\n",
       "      <td>True</td>\n",
       "      <td>43.0</td>\n",
       "      <td>3576.0</td>\n",
       "      <td>0.0</td>\n",
       "      <td>6715.0</td>\n",
       "      <td>49.0</td>\n",
       "      <td>False</td>\n",
       "      <td>True</td>\n",
       "      <td>...</td>\n",
       "      <td>False</td>\n",
       "      <td>False</td>\n",
       "      <td>False</td>\n",
       "      <td>False</td>\n",
       "      <td>False</td>\n",
       "      <td>False</td>\n",
       "      <td>False</td>\n",
       "      <td>False</td>\n",
       "      <td>False</td>\n",
       "      <td>True</td>\n",
       "    </tr>\n",
       "    <tr>\n",
       "      <th>3</th>\n",
       "      <td>False</td>\n",
       "      <td>33.0</td>\n",
       "      <td>False</td>\n",
       "      <td>0.0</td>\n",
       "      <td>1283.0</td>\n",
       "      <td>371.0</td>\n",
       "      <td>3329.0</td>\n",
       "      <td>193.0</td>\n",
       "      <td>False</td>\n",
       "      <td>True</td>\n",
       "      <td>...</td>\n",
       "      <td>False</td>\n",
       "      <td>False</td>\n",
       "      <td>False</td>\n",
       "      <td>False</td>\n",
       "      <td>False</td>\n",
       "      <td>False</td>\n",
       "      <td>False</td>\n",
       "      <td>False</td>\n",
       "      <td>False</td>\n",
       "      <td>True</td>\n",
       "    </tr>\n",
       "    <tr>\n",
       "      <th>4</th>\n",
       "      <td>False</td>\n",
       "      <td>16.0</td>\n",
       "      <td>False</td>\n",
       "      <td>303.0</td>\n",
       "      <td>70.0</td>\n",
       "      <td>151.0</td>\n",
       "      <td>565.0</td>\n",
       "      <td>2.0</td>\n",
       "      <td>True</td>\n",
       "      <td>False</td>\n",
       "      <td>...</td>\n",
       "      <td>False</td>\n",
       "      <td>False</td>\n",
       "      <td>False</td>\n",
       "      <td>False</td>\n",
       "      <td>True</td>\n",
       "      <td>False</td>\n",
       "      <td>False</td>\n",
       "      <td>False</td>\n",
       "      <td>False</td>\n",
       "      <td>True</td>\n",
       "    </tr>\n",
       "    <tr>\n",
       "      <th>...</th>\n",
       "      <td>...</td>\n",
       "      <td>...</td>\n",
       "      <td>...</td>\n",
       "      <td>...</td>\n",
       "      <td>...</td>\n",
       "      <td>...</td>\n",
       "      <td>...</td>\n",
       "      <td>...</td>\n",
       "      <td>...</td>\n",
       "      <td>...</td>\n",
       "      <td>...</td>\n",
       "      <td>...</td>\n",
       "      <td>...</td>\n",
       "      <td>...</td>\n",
       "      <td>...</td>\n",
       "      <td>...</td>\n",
       "      <td>...</td>\n",
       "      <td>...</td>\n",
       "      <td>...</td>\n",
       "      <td>...</td>\n",
       "      <td>...</td>\n",
       "    </tr>\n",
       "    <tr>\n",
       "      <th>8688</th>\n",
       "      <td>False</td>\n",
       "      <td>41.0</td>\n",
       "      <td>True</td>\n",
       "      <td>0.0</td>\n",
       "      <td>6819.0</td>\n",
       "      <td>0.0</td>\n",
       "      <td>1643.0</td>\n",
       "      <td>74.0</td>\n",
       "      <td>False</td>\n",
       "      <td>True</td>\n",
       "      <td>...</td>\n",
       "      <td>False</td>\n",
       "      <td>False</td>\n",
       "      <td>False</td>\n",
       "      <td>False</td>\n",
       "      <td>False</td>\n",
       "      <td>False</td>\n",
       "      <td>False</td>\n",
       "      <td>True</td>\n",
       "      <td>False</td>\n",
       "      <td>False</td>\n",
       "    </tr>\n",
       "    <tr>\n",
       "      <th>8689</th>\n",
       "      <td>True</td>\n",
       "      <td>18.0</td>\n",
       "      <td>False</td>\n",
       "      <td>0.0</td>\n",
       "      <td>0.0</td>\n",
       "      <td>0.0</td>\n",
       "      <td>0.0</td>\n",
       "      <td>0.0</td>\n",
       "      <td>True</td>\n",
       "      <td>False</td>\n",
       "      <td>...</td>\n",
       "      <td>False</td>\n",
       "      <td>False</td>\n",
       "      <td>False</td>\n",
       "      <td>False</td>\n",
       "      <td>False</td>\n",
       "      <td>True</td>\n",
       "      <td>False</td>\n",
       "      <td>False</td>\n",
       "      <td>True</td>\n",
       "      <td>False</td>\n",
       "    </tr>\n",
       "    <tr>\n",
       "      <th>8690</th>\n",
       "      <td>False</td>\n",
       "      <td>26.0</td>\n",
       "      <td>False</td>\n",
       "      <td>0.0</td>\n",
       "      <td>0.0</td>\n",
       "      <td>1872.0</td>\n",
       "      <td>1.0</td>\n",
       "      <td>0.0</td>\n",
       "      <td>True</td>\n",
       "      <td>False</td>\n",
       "      <td>...</td>\n",
       "      <td>False</td>\n",
       "      <td>False</td>\n",
       "      <td>False</td>\n",
       "      <td>False</td>\n",
       "      <td>False</td>\n",
       "      <td>True</td>\n",
       "      <td>False</td>\n",
       "      <td>False</td>\n",
       "      <td>False</td>\n",
       "      <td>True</td>\n",
       "    </tr>\n",
       "    <tr>\n",
       "      <th>8691</th>\n",
       "      <td>False</td>\n",
       "      <td>32.0</td>\n",
       "      <td>False</td>\n",
       "      <td>0.0</td>\n",
       "      <td>1049.0</td>\n",
       "      <td>0.0</td>\n",
       "      <td>353.0</td>\n",
       "      <td>3235.0</td>\n",
       "      <td>False</td>\n",
       "      <td>True</td>\n",
       "      <td>...</td>\n",
       "      <td>False</td>\n",
       "      <td>False</td>\n",
       "      <td>False</td>\n",
       "      <td>True</td>\n",
       "      <td>False</td>\n",
       "      <td>False</td>\n",
       "      <td>False</td>\n",
       "      <td>True</td>\n",
       "      <td>False</td>\n",
       "      <td>False</td>\n",
       "    </tr>\n",
       "    <tr>\n",
       "      <th>8692</th>\n",
       "      <td>False</td>\n",
       "      <td>44.0</td>\n",
       "      <td>False</td>\n",
       "      <td>126.0</td>\n",
       "      <td>4688.0</td>\n",
       "      <td>0.0</td>\n",
       "      <td>0.0</td>\n",
       "      <td>12.0</td>\n",
       "      <td>False</td>\n",
       "      <td>True</td>\n",
       "      <td>...</td>\n",
       "      <td>False</td>\n",
       "      <td>False</td>\n",
       "      <td>False</td>\n",
       "      <td>True</td>\n",
       "      <td>False</td>\n",
       "      <td>False</td>\n",
       "      <td>False</td>\n",
       "      <td>False</td>\n",
       "      <td>False</td>\n",
       "      <td>True</td>\n",
       "    </tr>\n",
       "  </tbody>\n",
       "</table>\n",
       "<p>6606 rows × 22 columns</p>\n",
       "</div>"
      ],
      "text/plain": [
       "     CryoSleep   Age    VIP  RoomService  FoodCourt  ShoppingMall     Spa  \\\n",
       "0        False  39.0  False          0.0        0.0           0.0     0.0   \n",
       "1        False  24.0  False        109.0        9.0          25.0   549.0   \n",
       "2        False  58.0   True         43.0     3576.0           0.0  6715.0   \n",
       "3        False  33.0  False          0.0     1283.0         371.0  3329.0   \n",
       "4        False  16.0  False        303.0       70.0         151.0   565.0   \n",
       "...        ...   ...    ...          ...        ...           ...     ...   \n",
       "8688     False  41.0   True          0.0     6819.0           0.0  1643.0   \n",
       "8689      True  18.0  False          0.0        0.0           0.0     0.0   \n",
       "8690     False  26.0  False          0.0        0.0        1872.0     1.0   \n",
       "8691     False  32.0  False          0.0     1049.0           0.0   353.0   \n",
       "8692     False  44.0  False        126.0     4688.0           0.0     0.0   \n",
       "\n",
       "      VRDeck  HomePlanet_Earth  HomePlanet_Europa  ...  Cabin_B  Cabin_C  \\\n",
       "0        0.0             False               True  ...     True    False   \n",
       "1       44.0              True              False  ...    False    False   \n",
       "2       49.0             False               True  ...    False    False   \n",
       "3      193.0             False               True  ...    False    False   \n",
       "4        2.0              True              False  ...    False    False   \n",
       "...      ...               ...                ...  ...      ...      ...   \n",
       "8688    74.0             False               True  ...    False    False   \n",
       "8689     0.0              True              False  ...    False    False   \n",
       "8690     0.0              True              False  ...    False    False   \n",
       "8691  3235.0             False               True  ...    False    False   \n",
       "8692    12.0             False               True  ...    False    False   \n",
       "\n",
       "      Cabin_D  Cabin_E  Cabin_F  Cabin_G  Cabin_T  Destination_55 Cancri e  \\\n",
       "0       False    False    False    False    False                    False   \n",
       "1       False    False     True    False    False                    False   \n",
       "2       False    False    False    False    False                    False   \n",
       "3       False    False    False    False    False                    False   \n",
       "4       False    False     True    False    False                    False   \n",
       "...       ...      ...      ...      ...      ...                      ...   \n",
       "8688    False    False    False    False    False                     True   \n",
       "8689    False    False    False     True    False                    False   \n",
       "8690    False    False    False     True    False                    False   \n",
       "8691    False     True    False    False    False                     True   \n",
       "8692    False     True    False    False    False                    False   \n",
       "\n",
       "      Destination_PSO J318.5-22  Destination_TRAPPIST-1e  \n",
       "0                         False                     True  \n",
       "1                         False                     True  \n",
       "2                         False                     True  \n",
       "3                         False                     True  \n",
       "4                         False                     True  \n",
       "...                         ...                      ...  \n",
       "8688                      False                    False  \n",
       "8689                       True                    False  \n",
       "8690                      False                     True  \n",
       "8691                      False                    False  \n",
       "8692                      False                     True  \n",
       "\n",
       "[6606 rows x 22 columns]"
      ]
     },
     "execution_count": 45,
     "metadata": {},
     "output_type": "execute_result"
    }
   ],
   "source": [
    "#ABT\n",
    "spaceship"
   ]
  },
  {
   "cell_type": "markdown",
   "metadata": {},
   "source": [
    "**Perform Train Test Split**"
   ]
  },
  {
   "cell_type": "code",
   "execution_count": 46,
   "metadata": {},
   "outputs": [],
   "source": [
    "import pandas as pd\n",
    "import numpy as np\n",
    "from sklearn.model_selection import train_test_split\n",
    "from sklearn.preprocessing import StandardScaler\n",
    "from sklearn.linear_model import LogisticRegression\n",
    "from sklearn.tree import DecisionTreeClassifier\n",
    "from sklearn.ensemble import RandomForestClassifier\n",
    "from sklearn.svm import SVC\n",
    "from sklearn.neighbors import KNeighborsClassifier\n",
    "from sklearn.metrics import accuracy_score, classification_report"
   ]
  },
  {
   "cell_type": "code",
   "execution_count": 47,
   "metadata": {},
   "outputs": [],
   "source": [
    "# Split the data\n",
    "X_train, X_test, y_train, y_test = train_test_split(spaceship, target, test_size=0.2, random_state=42)\n",
    "\n",
    "# Standardize the features\n",
    "scaler = StandardScaler()\n",
    "X_train_scaled = scaler.fit_transform(X_train)\n",
    "X_test_scaled = scaler.transform(X_test)"
   ]
  },
  {
   "cell_type": "markdown",
   "metadata": {},
   "source": [
    "**Model Selection**"
   ]
  },
  {
   "cell_type": "markdown",
   "metadata": {},
   "source": [
    "In this exercise we will be using **KNN** as our predictive model."
   ]
  },
  {
   "cell_type": "code",
   "execution_count": 83,
   "metadata": {},
   "outputs": [],
   "source": [
    "knn = KNeighborsClassifier(n_neighbors=9)"
   ]
  },
  {
   "cell_type": "code",
   "execution_count": 84,
   "metadata": {},
   "outputs": [
    {
     "data": {
      "text/html": [
       "<style>#sk-container-id-7 {\n",
       "  /* Definition of color scheme common for light and dark mode */\n",
       "  --sklearn-color-text: black;\n",
       "  --sklearn-color-line: gray;\n",
       "  /* Definition of color scheme for unfitted estimators */\n",
       "  --sklearn-color-unfitted-level-0: #fff5e6;\n",
       "  --sklearn-color-unfitted-level-1: #f6e4d2;\n",
       "  --sklearn-color-unfitted-level-2: #ffe0b3;\n",
       "  --sklearn-color-unfitted-level-3: chocolate;\n",
       "  /* Definition of color scheme for fitted estimators */\n",
       "  --sklearn-color-fitted-level-0: #f0f8ff;\n",
       "  --sklearn-color-fitted-level-1: #d4ebff;\n",
       "  --sklearn-color-fitted-level-2: #b3dbfd;\n",
       "  --sklearn-color-fitted-level-3: cornflowerblue;\n",
       "\n",
       "  /* Specific color for light theme */\n",
       "  --sklearn-color-text-on-default-background: var(--sg-text-color, var(--theme-code-foreground, var(--jp-content-font-color1, black)));\n",
       "  --sklearn-color-background: var(--sg-background-color, var(--theme-background, var(--jp-layout-color0, white)));\n",
       "  --sklearn-color-border-box: var(--sg-text-color, var(--theme-code-foreground, var(--jp-content-font-color1, black)));\n",
       "  --sklearn-color-icon: #696969;\n",
       "\n",
       "  @media (prefers-color-scheme: dark) {\n",
       "    /* Redefinition of color scheme for dark theme */\n",
       "    --sklearn-color-text-on-default-background: var(--sg-text-color, var(--theme-code-foreground, var(--jp-content-font-color1, white)));\n",
       "    --sklearn-color-background: var(--sg-background-color, var(--theme-background, var(--jp-layout-color0, #111)));\n",
       "    --sklearn-color-border-box: var(--sg-text-color, var(--theme-code-foreground, var(--jp-content-font-color1, white)));\n",
       "    --sklearn-color-icon: #878787;\n",
       "  }\n",
       "}\n",
       "\n",
       "#sk-container-id-7 {\n",
       "  color: var(--sklearn-color-text);\n",
       "}\n",
       "\n",
       "#sk-container-id-7 pre {\n",
       "  padding: 0;\n",
       "}\n",
       "\n",
       "#sk-container-id-7 input.sk-hidden--visually {\n",
       "  border: 0;\n",
       "  clip: rect(1px 1px 1px 1px);\n",
       "  clip: rect(1px, 1px, 1px, 1px);\n",
       "  height: 1px;\n",
       "  margin: -1px;\n",
       "  overflow: hidden;\n",
       "  padding: 0;\n",
       "  position: absolute;\n",
       "  width: 1px;\n",
       "}\n",
       "\n",
       "#sk-container-id-7 div.sk-dashed-wrapped {\n",
       "  border: 1px dashed var(--sklearn-color-line);\n",
       "  margin: 0 0.4em 0.5em 0.4em;\n",
       "  box-sizing: border-box;\n",
       "  padding-bottom: 0.4em;\n",
       "  background-color: var(--sklearn-color-background);\n",
       "}\n",
       "\n",
       "#sk-container-id-7 div.sk-container {\n",
       "  /* jupyter's `normalize.less` sets `[hidden] { display: none; }`\n",
       "     but bootstrap.min.css set `[hidden] { display: none !important; }`\n",
       "     so we also need the `!important` here to be able to override the\n",
       "     default hidden behavior on the sphinx rendered scikit-learn.org.\n",
       "     See: https://github.com/scikit-learn/scikit-learn/issues/21755 */\n",
       "  display: inline-block !important;\n",
       "  position: relative;\n",
       "}\n",
       "\n",
       "#sk-container-id-7 div.sk-text-repr-fallback {\n",
       "  display: none;\n",
       "}\n",
       "\n",
       "div.sk-parallel-item,\n",
       "div.sk-serial,\n",
       "div.sk-item {\n",
       "  /* draw centered vertical line to link estimators */\n",
       "  background-image: linear-gradient(var(--sklearn-color-text-on-default-background), var(--sklearn-color-text-on-default-background));\n",
       "  background-size: 2px 100%;\n",
       "  background-repeat: no-repeat;\n",
       "  background-position: center center;\n",
       "}\n",
       "\n",
       "/* Parallel-specific style estimator block */\n",
       "\n",
       "#sk-container-id-7 div.sk-parallel-item::after {\n",
       "  content: \"\";\n",
       "  width: 100%;\n",
       "  border-bottom: 2px solid var(--sklearn-color-text-on-default-background);\n",
       "  flex-grow: 1;\n",
       "}\n",
       "\n",
       "#sk-container-id-7 div.sk-parallel {\n",
       "  display: flex;\n",
       "  align-items: stretch;\n",
       "  justify-content: center;\n",
       "  background-color: var(--sklearn-color-background);\n",
       "  position: relative;\n",
       "}\n",
       "\n",
       "#sk-container-id-7 div.sk-parallel-item {\n",
       "  display: flex;\n",
       "  flex-direction: column;\n",
       "}\n",
       "\n",
       "#sk-container-id-7 div.sk-parallel-item:first-child::after {\n",
       "  align-self: flex-end;\n",
       "  width: 50%;\n",
       "}\n",
       "\n",
       "#sk-container-id-7 div.sk-parallel-item:last-child::after {\n",
       "  align-self: flex-start;\n",
       "  width: 50%;\n",
       "}\n",
       "\n",
       "#sk-container-id-7 div.sk-parallel-item:only-child::after {\n",
       "  width: 0;\n",
       "}\n",
       "\n",
       "/* Serial-specific style estimator block */\n",
       "\n",
       "#sk-container-id-7 div.sk-serial {\n",
       "  display: flex;\n",
       "  flex-direction: column;\n",
       "  align-items: center;\n",
       "  background-color: var(--sklearn-color-background);\n",
       "  padding-right: 1em;\n",
       "  padding-left: 1em;\n",
       "}\n",
       "\n",
       "\n",
       "/* Toggleable style: style used for estimator/Pipeline/ColumnTransformer box that is\n",
       "clickable and can be expanded/collapsed.\n",
       "- Pipeline and ColumnTransformer use this feature and define the default style\n",
       "- Estimators will overwrite some part of the style using the `sk-estimator` class\n",
       "*/\n",
       "\n",
       "/* Pipeline and ColumnTransformer style (default) */\n",
       "\n",
       "#sk-container-id-7 div.sk-toggleable {\n",
       "  /* Default theme specific background. It is overwritten whether we have a\n",
       "  specific estimator or a Pipeline/ColumnTransformer */\n",
       "  background-color: var(--sklearn-color-background);\n",
       "}\n",
       "\n",
       "/* Toggleable label */\n",
       "#sk-container-id-7 label.sk-toggleable__label {\n",
       "  cursor: pointer;\n",
       "  display: block;\n",
       "  width: 100%;\n",
       "  margin-bottom: 0;\n",
       "  padding: 0.5em;\n",
       "  box-sizing: border-box;\n",
       "  text-align: center;\n",
       "}\n",
       "\n",
       "#sk-container-id-7 label.sk-toggleable__label-arrow:before {\n",
       "  /* Arrow on the left of the label */\n",
       "  content: \"▸\";\n",
       "  float: left;\n",
       "  margin-right: 0.25em;\n",
       "  color: var(--sklearn-color-icon);\n",
       "}\n",
       "\n",
       "#sk-container-id-7 label.sk-toggleable__label-arrow:hover:before {\n",
       "  color: var(--sklearn-color-text);\n",
       "}\n",
       "\n",
       "/* Toggleable content - dropdown */\n",
       "\n",
       "#sk-container-id-7 div.sk-toggleable__content {\n",
       "  max-height: 0;\n",
       "  max-width: 0;\n",
       "  overflow: hidden;\n",
       "  text-align: left;\n",
       "  /* unfitted */\n",
       "  background-color: var(--sklearn-color-unfitted-level-0);\n",
       "}\n",
       "\n",
       "#sk-container-id-7 div.sk-toggleable__content.fitted {\n",
       "  /* fitted */\n",
       "  background-color: var(--sklearn-color-fitted-level-0);\n",
       "}\n",
       "\n",
       "#sk-container-id-7 div.sk-toggleable__content pre {\n",
       "  margin: 0.2em;\n",
       "  border-radius: 0.25em;\n",
       "  color: var(--sklearn-color-text);\n",
       "  /* unfitted */\n",
       "  background-color: var(--sklearn-color-unfitted-level-0);\n",
       "}\n",
       "\n",
       "#sk-container-id-7 div.sk-toggleable__content.fitted pre {\n",
       "  /* unfitted */\n",
       "  background-color: var(--sklearn-color-fitted-level-0);\n",
       "}\n",
       "\n",
       "#sk-container-id-7 input.sk-toggleable__control:checked~div.sk-toggleable__content {\n",
       "  /* Expand drop-down */\n",
       "  max-height: 200px;\n",
       "  max-width: 100%;\n",
       "  overflow: auto;\n",
       "}\n",
       "\n",
       "#sk-container-id-7 input.sk-toggleable__control:checked~label.sk-toggleable__label-arrow:before {\n",
       "  content: \"▾\";\n",
       "}\n",
       "\n",
       "/* Pipeline/ColumnTransformer-specific style */\n",
       "\n",
       "#sk-container-id-7 div.sk-label input.sk-toggleable__control:checked~label.sk-toggleable__label {\n",
       "  color: var(--sklearn-color-text);\n",
       "  background-color: var(--sklearn-color-unfitted-level-2);\n",
       "}\n",
       "\n",
       "#sk-container-id-7 div.sk-label.fitted input.sk-toggleable__control:checked~label.sk-toggleable__label {\n",
       "  background-color: var(--sklearn-color-fitted-level-2);\n",
       "}\n",
       "\n",
       "/* Estimator-specific style */\n",
       "\n",
       "/* Colorize estimator box */\n",
       "#sk-container-id-7 div.sk-estimator input.sk-toggleable__control:checked~label.sk-toggleable__label {\n",
       "  /* unfitted */\n",
       "  background-color: var(--sklearn-color-unfitted-level-2);\n",
       "}\n",
       "\n",
       "#sk-container-id-7 div.sk-estimator.fitted input.sk-toggleable__control:checked~label.sk-toggleable__label {\n",
       "  /* fitted */\n",
       "  background-color: var(--sklearn-color-fitted-level-2);\n",
       "}\n",
       "\n",
       "#sk-container-id-7 div.sk-label label.sk-toggleable__label,\n",
       "#sk-container-id-7 div.sk-label label {\n",
       "  /* The background is the default theme color */\n",
       "  color: var(--sklearn-color-text-on-default-background);\n",
       "}\n",
       "\n",
       "/* On hover, darken the color of the background */\n",
       "#sk-container-id-7 div.sk-label:hover label.sk-toggleable__label {\n",
       "  color: var(--sklearn-color-text);\n",
       "  background-color: var(--sklearn-color-unfitted-level-2);\n",
       "}\n",
       "\n",
       "/* Label box, darken color on hover, fitted */\n",
       "#sk-container-id-7 div.sk-label.fitted:hover label.sk-toggleable__label.fitted {\n",
       "  color: var(--sklearn-color-text);\n",
       "  background-color: var(--sklearn-color-fitted-level-2);\n",
       "}\n",
       "\n",
       "/* Estimator label */\n",
       "\n",
       "#sk-container-id-7 div.sk-label label {\n",
       "  font-family: monospace;\n",
       "  font-weight: bold;\n",
       "  display: inline-block;\n",
       "  line-height: 1.2em;\n",
       "}\n",
       "\n",
       "#sk-container-id-7 div.sk-label-container {\n",
       "  text-align: center;\n",
       "}\n",
       "\n",
       "/* Estimator-specific */\n",
       "#sk-container-id-7 div.sk-estimator {\n",
       "  font-family: monospace;\n",
       "  border: 1px dotted var(--sklearn-color-border-box);\n",
       "  border-radius: 0.25em;\n",
       "  box-sizing: border-box;\n",
       "  margin-bottom: 0.5em;\n",
       "  /* unfitted */\n",
       "  background-color: var(--sklearn-color-unfitted-level-0);\n",
       "}\n",
       "\n",
       "#sk-container-id-7 div.sk-estimator.fitted {\n",
       "  /* fitted */\n",
       "  background-color: var(--sklearn-color-fitted-level-0);\n",
       "}\n",
       "\n",
       "/* on hover */\n",
       "#sk-container-id-7 div.sk-estimator:hover {\n",
       "  /* unfitted */\n",
       "  background-color: var(--sklearn-color-unfitted-level-2);\n",
       "}\n",
       "\n",
       "#sk-container-id-7 div.sk-estimator.fitted:hover {\n",
       "  /* fitted */\n",
       "  background-color: var(--sklearn-color-fitted-level-2);\n",
       "}\n",
       "\n",
       "/* Specification for estimator info (e.g. \"i\" and \"?\") */\n",
       "\n",
       "/* Common style for \"i\" and \"?\" */\n",
       "\n",
       ".sk-estimator-doc-link,\n",
       "a:link.sk-estimator-doc-link,\n",
       "a:visited.sk-estimator-doc-link {\n",
       "  float: right;\n",
       "  font-size: smaller;\n",
       "  line-height: 1em;\n",
       "  font-family: monospace;\n",
       "  background-color: var(--sklearn-color-background);\n",
       "  border-radius: 1em;\n",
       "  height: 1em;\n",
       "  width: 1em;\n",
       "  text-decoration: none !important;\n",
       "  margin-left: 1ex;\n",
       "  /* unfitted */\n",
       "  border: var(--sklearn-color-unfitted-level-1) 1pt solid;\n",
       "  color: var(--sklearn-color-unfitted-level-1);\n",
       "}\n",
       "\n",
       ".sk-estimator-doc-link.fitted,\n",
       "a:link.sk-estimator-doc-link.fitted,\n",
       "a:visited.sk-estimator-doc-link.fitted {\n",
       "  /* fitted */\n",
       "  border: var(--sklearn-color-fitted-level-1) 1pt solid;\n",
       "  color: var(--sklearn-color-fitted-level-1);\n",
       "}\n",
       "\n",
       "/* On hover */\n",
       "div.sk-estimator:hover .sk-estimator-doc-link:hover,\n",
       ".sk-estimator-doc-link:hover,\n",
       "div.sk-label-container:hover .sk-estimator-doc-link:hover,\n",
       ".sk-estimator-doc-link:hover {\n",
       "  /* unfitted */\n",
       "  background-color: var(--sklearn-color-unfitted-level-3);\n",
       "  color: var(--sklearn-color-background);\n",
       "  text-decoration: none;\n",
       "}\n",
       "\n",
       "div.sk-estimator.fitted:hover .sk-estimator-doc-link.fitted:hover,\n",
       ".sk-estimator-doc-link.fitted:hover,\n",
       "div.sk-label-container:hover .sk-estimator-doc-link.fitted:hover,\n",
       ".sk-estimator-doc-link.fitted:hover {\n",
       "  /* fitted */\n",
       "  background-color: var(--sklearn-color-fitted-level-3);\n",
       "  color: var(--sklearn-color-background);\n",
       "  text-decoration: none;\n",
       "}\n",
       "\n",
       "/* Span, style for the box shown on hovering the info icon */\n",
       ".sk-estimator-doc-link span {\n",
       "  display: none;\n",
       "  z-index: 9999;\n",
       "  position: relative;\n",
       "  font-weight: normal;\n",
       "  right: .2ex;\n",
       "  padding: .5ex;\n",
       "  margin: .5ex;\n",
       "  width: min-content;\n",
       "  min-width: 20ex;\n",
       "  max-width: 50ex;\n",
       "  color: var(--sklearn-color-text);\n",
       "  box-shadow: 2pt 2pt 4pt #999;\n",
       "  /* unfitted */\n",
       "  background: var(--sklearn-color-unfitted-level-0);\n",
       "  border: .5pt solid var(--sklearn-color-unfitted-level-3);\n",
       "}\n",
       "\n",
       ".sk-estimator-doc-link.fitted span {\n",
       "  /* fitted */\n",
       "  background: var(--sklearn-color-fitted-level-0);\n",
       "  border: var(--sklearn-color-fitted-level-3);\n",
       "}\n",
       "\n",
       ".sk-estimator-doc-link:hover span {\n",
       "  display: block;\n",
       "}\n",
       "\n",
       "/* \"?\"-specific style due to the `<a>` HTML tag */\n",
       "\n",
       "#sk-container-id-7 a.estimator_doc_link {\n",
       "  float: right;\n",
       "  font-size: 1rem;\n",
       "  line-height: 1em;\n",
       "  font-family: monospace;\n",
       "  background-color: var(--sklearn-color-background);\n",
       "  border-radius: 1rem;\n",
       "  height: 1rem;\n",
       "  width: 1rem;\n",
       "  text-decoration: none;\n",
       "  /* unfitted */\n",
       "  color: var(--sklearn-color-unfitted-level-1);\n",
       "  border: var(--sklearn-color-unfitted-level-1) 1pt solid;\n",
       "}\n",
       "\n",
       "#sk-container-id-7 a.estimator_doc_link.fitted {\n",
       "  /* fitted */\n",
       "  border: var(--sklearn-color-fitted-level-1) 1pt solid;\n",
       "  color: var(--sklearn-color-fitted-level-1);\n",
       "}\n",
       "\n",
       "/* On hover */\n",
       "#sk-container-id-7 a.estimator_doc_link:hover {\n",
       "  /* unfitted */\n",
       "  background-color: var(--sklearn-color-unfitted-level-3);\n",
       "  color: var(--sklearn-color-background);\n",
       "  text-decoration: none;\n",
       "}\n",
       "\n",
       "#sk-container-id-7 a.estimator_doc_link.fitted:hover {\n",
       "  /* fitted */\n",
       "  background-color: var(--sklearn-color-fitted-level-3);\n",
       "}\n",
       "</style><div id=\"sk-container-id-7\" class=\"sk-top-container\"><div class=\"sk-text-repr-fallback\"><pre>KNeighborsClassifier(n_neighbors=9)</pre><b>In a Jupyter environment, please rerun this cell to show the HTML representation or trust the notebook. <br />On GitHub, the HTML representation is unable to render, please try loading this page with nbviewer.org.</b></div><div class=\"sk-container\" hidden><div class=\"sk-item\"><div class=\"sk-estimator fitted sk-toggleable\"><input class=\"sk-toggleable__control sk-hidden--visually\" id=\"sk-estimator-id-7\" type=\"checkbox\" checked><label for=\"sk-estimator-id-7\" class=\"sk-toggleable__label fitted sk-toggleable__label-arrow fitted\">&nbsp;&nbsp;KNeighborsClassifier<a class=\"sk-estimator-doc-link fitted\" rel=\"noreferrer\" target=\"_blank\" href=\"https://scikit-learn.org/1.5/modules/generated/sklearn.neighbors.KNeighborsClassifier.html\">?<span>Documentation for KNeighborsClassifier</span></a><span class=\"sk-estimator-doc-link fitted\">i<span>Fitted</span></span></label><div class=\"sk-toggleable__content fitted\"><pre>KNeighborsClassifier(n_neighbors=9)</pre></div> </div></div></div></div>"
      ],
      "text/plain": [
       "KNeighborsClassifier(n_neighbors=9)"
      ]
     },
     "execution_count": 84,
     "metadata": {},
     "output_type": "execute_result"
    }
   ],
   "source": [
    "knn.fit(X_train, y_train)"
   ]
  },
  {
   "cell_type": "markdown",
   "metadata": {},
   "source": [
    "- Evaluate your model's performance. Comment it"
   ]
  },
  {
   "cell_type": "code",
   "execution_count": 85,
   "metadata": {},
   "outputs": [
    {
     "data": {
      "text/plain": [
       "array([ True,  True, False, ...,  True,  True,  True])"
      ]
     },
     "execution_count": 85,
     "metadata": {},
     "output_type": "execute_result"
    }
   ],
   "source": [
    "pred = knn.predict(X_test)\n",
    "pred"
   ]
  },
  {
   "cell_type": "code",
   "execution_count": 86,
   "metadata": {},
   "outputs": [
    {
     "data": {
      "text/plain": [
       "array([ True,  True,  True, ...,  True,  True,  True])"
      ]
     },
     "execution_count": 86,
     "metadata": {},
     "output_type": "execute_result"
    }
   ],
   "source": [
    "y_test.values"
   ]
  },
  {
   "cell_type": "code",
   "execution_count": 87,
   "metadata": {},
   "outputs": [
    {
     "data": {
      "text/plain": [
       "0.8048411497730711"
      ]
     },
     "execution_count": 87,
     "metadata": {},
     "output_type": "execute_result"
    }
   ],
   "source": [
    "knn.score(X_test, y_test)"
   ]
  },
  {
   "cell_type": "code",
   "execution_count": 88,
   "metadata": {},
   "outputs": [
    {
     "name": "stdout",
     "output_type": "stream",
     "text": [
      "Precisión: 0.8052636287930406\n"
     ]
    }
   ],
   "source": [
    "from sklearn.metrics import precision_score, recall_score, f1_score, classification_report\n",
    "\n",
    "precision = precision_score(y_test, pred, average='macro')\n",
    "print(f'Precisión: {precision}')"
   ]
  },
  {
   "cell_type": "code",
   "execution_count": 89,
   "metadata": {},
   "outputs": [
    {
     "name": "stdout",
     "output_type": "stream",
     "text": [
      "Recall: 0.8045928072572948\n"
     ]
    }
   ],
   "source": [
    "# Recall\n",
    "recall = recall_score(y_test, pred, average='macro')\n",
    "print(f'Recall: {recall}')"
   ]
  },
  {
   "cell_type": "code",
   "execution_count": 90,
   "metadata": {},
   "outputs": [
    {
     "name": "stdout",
     "output_type": "stream",
     "text": [
      "F1-score: 0.8046623186513364\n"
     ]
    }
   ],
   "source": [
    "# F1-score\n",
    "f1 = f1_score(y_test, pred, average='macro')\n",
    "print(f'F1-score: {f1}')"
   ]
  },
  {
   "cell_type": "code",
   "execution_count": 91,
   "metadata": {},
   "outputs": [
    {
     "name": "stdout",
     "output_type": "stream",
     "text": [
      "              precision    recall  f1-score   support\n",
      "\n",
      "       False       0.81      0.78      0.80       653\n",
      "        True       0.80      0.83      0.81       669\n",
      "\n",
      "    accuracy                           0.80      1322\n",
      "   macro avg       0.81      0.80      0.80      1322\n",
      "weighted avg       0.81      0.80      0.80      1322\n",
      "\n"
     ]
    }
   ],
   "source": [
    "from sklearn.metrics import confusion_matrix\n",
    "# Assuming 'y_test' are the true labels and 'pred' are the model's predictions\n",
    "\n",
    "\n",
    "# Complete classification report\n",
    "report = classification_report(y_test, pred)\n",
    "print(report)"
   ]
  },
  {
   "cell_type": "code",
   "execution_count": 95,
   "metadata": {},
   "outputs": [
    {
     "data": {
      "application/vnd.plotly.v1+json": {
       "config": {
        "plotlyServerURL": "https://plot.ly"
       },
       "data": [
        {
         "coloraxis": "coloraxis",
         "hovertemplate": "x: %{x}<br>y: %{y}<br>color: %{z}<extra></extra>",
         "name": "0",
         "type": "heatmap",
         "x": [
          "CryoSleep",
          "Age",
          "VIP",
          "RoomService",
          "FoodCourt",
          "ShoppingMall",
          "Spa",
          "VRDeck",
          "HomePlanet_Earth",
          "HomePlanet_Europa",
          "HomePlanet_Mars",
          "Cabin_A",
          "Cabin_B",
          "Cabin_C",
          "Cabin_D",
          "Cabin_E",
          "Cabin_F",
          "Cabin_G",
          "Cabin_T",
          "Destination_55 Cancri e",
          "Destination_PSO J318.5-22",
          "Destination_TRAPPIST-1e"
         ],
         "xaxis": "x",
         "y": [
          "CryoSleep",
          "Age",
          "VIP",
          "RoomService",
          "FoodCourt",
          "ShoppingMall",
          "Spa",
          "VRDeck",
          "HomePlanet_Earth",
          "HomePlanet_Europa",
          "HomePlanet_Mars",
          "Cabin_A",
          "Cabin_B",
          "Cabin_C",
          "Cabin_D",
          "Cabin_E",
          "Cabin_F",
          "Cabin_G",
          "Cabin_T",
          "Destination_55 Cancri e",
          "Destination_PSO J318.5-22",
          "Destination_TRAPPIST-1e"
         ],
         "yaxis": "y",
         "z": [
          [
           1,
           0.08570077453601482,
           0.08230349458283946,
           0.2553976779631682,
           0.21078153803178556,
           0.22861187643746428,
           0.20221625864657541,
           0.19909503873798806,
           0.10730272339220585,
           0.09717233802495148,
           0.027704137505240665,
           0.03649559220115429,
           0.12128602000362697,
           0.03537961680130093,
           0.07678954793862214,
           0.11038798645978391,
           0.22755250208968392,
           0.2598841626415897,
           0.012854597411098982,
           0.06368113283952986,
           0.09328714429172684,
           0.11560294564028092
          ],
          [
           0.08570077453601482,
           1,
           0.09813831437842813,
           0.07478315504085371,
           0.13584388485092788,
           0.042314234277237774,
           0.12381994385013878,
           0.10503077660405259,
           0.21161087422250618,
           0.2275369093882455,
           0.01609269462769336,
           0.08154870994331498,
           0.10581738595534791,
           0.1375093977028515,
           0.08557673961177331,
           0.03049603123919861,
           0.022714569307699824,
           0.22509373571813382,
           0.01329941421313907,
           0.018651602034638344,
           0.024093385617674656,
           0.0012893378421605078
          ],
          [
           0.08230349458283946,
           0.09813831437842813,
           1,
           0.029008697905133773,
           0.13538632129346692,
           0.013660262073304673,
           0.06479193129650752,
           0.13006141249822098,
           0.17172503715465884,
           0.15523059526244007,
           0.04463982874603857,
           0.14563278380361902,
           0.07874944348224792,
           0.06399551260407163,
           0.0712680696655027,
           0.00883786126954342,
           0.07053221508680137,
           0.10346944841697445,
           0.0027592509892989257,
           0.04421525236627973,
           0.0009307517875429478,
           0.03864671436837367
          ],
          [
           0.2553976779631682,
           0.07478315504085371,
           0.029008697905133773,
           1,
           0.01361430110644748,
           0.06047764183857426,
           0.012472387636172672,
           0.026001710640333974,
           0.14251450496668938,
           0.08477890118088885,
           0.26634750582763383,
           0.02130403764400649,
           0.07068634533291288,
           0.023934497978471043,
           0.17715085940122421,
           0.054708472854414304,
           0.09279311069298521,
           0.1523502950874604,
           0.006017019179326463,
           0.0332664593906261,
           0.06189913819735589,
           0.06873044188133294
          ],
          [
           0.21078153803178556,
           0.13584388485092788,
           0.13538632129346692,
           0.01361430110644748,
           1,
           0.012319617193806165,
           0.21599527442572694,
           0.2169970893171882,
           0.22096937117283935,
           0.37462515703905985,
           0.13029003216867316,
           0.1228425696060778,
           0.1720992623159866,
           0.2522827132618992,
           0.025841489771767936,
           0.04376886509649488,
           0.13964604112243587,
           0.15562283888966943,
           0.020767731367105472,
           0.13310819562774442,
           0.06671292806111355,
           0.07585994295669943
          ],
          [
           0.22861187643746428,
           0.042314234277237774,
           0.013660262073304673,
           0.06047764183857426,
           0.012319617193806165,
           1,
           0.02216785489203691,
           0.00038264408029966245,
           0.08212933820868638,
           0.02458008908106203,
           0.12743188334258757,
           0.014858302028278555,
           0.021921932749198344,
           0.014060558492213732,
           0.05414909410581616,
           0.032038418849276794,
           0.08069341272916503,
           0.12011999636238033,
           0.005355763708056442,
           0.009218705846558853,
           0.0345352798182264,
           0.030056994687383324
          ],
          [
           0.20221625864657541,
           0.12381994385013878,
           0.06479193129650752,
           0.012472387636172672,
           0.21599527442572694,
           0.02216785489203691,
           1,
           0.1494471244365471,
           0.16036280944087067,
           0.2663541159252222,
           0.0886285598938994,
           0.0515005620061642,
           0.14062765163445656,
           0.16153977683773454,
           0.04303578948069104,
           0.020787609745464748,
           0.08828761658289634,
           0.1283855112372902,
           0.019264685975620595,
           0.07755380923536806,
           0.05540325539441847,
           0.033725491816427935
          ],
          [
           0.19909503873798806,
           0.10503077660405259,
           0.13006141249822098,
           0.026001710640333974,
           0.2169970893171882,
           0.00038264408029966245,
           0.1494471244365471,
           1,
           0.1587379735160803,
           0.2900467669251763,
           0.11606128451341294,
           0.1081182182930717,
           0.12154583285647931,
           0.2107347529893607,
           0.0017520812634367745,
           0.027314187535819313,
           0.0960217720405516,
           0.1332249958785346,
           0.014224236927995897,
           0.0909177623579052,
           0.04742198420448674,
           0.050640306481383686
          ],
          [
           0.10730272339220585,
           0.21161087422250618,
           0.17172503715465884,
           0.14251450496668938,
           0.22096937117283935,
           0.08212933820868638,
           0.16036280944087067,
           0.1587379735160803,
           1,
           0.6307340695685076,
           0.5532404624506904,
           0.19479732791712998,
           0.35103930343863166,
           0.3382289337975405,
           0.2653236458583194,
           0.05555473859786642,
           0.07668095621750637,
           0.6025297774359355,
           0.01884800303988738,
           0.15394143043000996,
           0.24078414456395641,
           0.01591824526819167
          ],
          [
           0.09717233802495148,
           0.2275369093882455,
           0.15523059526244007,
           0.08477890118088885,
           0.37462515703905985,
           0.02458008908106203,
           0.2663541159252222,
           0.2900467669251763,
           0.6307340695685076,
           1,
           0.2974763682915647,
           0.308842247970515,
           0.5565567493108189,
           0.5362464945471025,
           0.07874883425837763,
           0.08114212835948764,
           0.40479807624017766,
           0.3800360585583753,
           0.02988264618840303,
           0.29474421412460483,
           0.16767377990692775,
           0.15534091708531142
          ],
          [
           0.027704137505240665,
           0.01609269462769336,
           0.04463982874603857,
           0.26634750582763383,
           0.13029003216867316,
           0.12743188334258757,
           0.0886285598938994,
           0.11606128451341294,
           0.5532404624506904,
           0.2974763682915647,
           1,
           0.09187327030127193,
           0.16556248053314027,
           0.15952065970695406,
           0.24189816459740004,
           0.15545492632808677,
           0.3402014396377315,
           0.3333438527089673,
           0.008889381063067945,
           0.12700520847159197,
           0.11624726579479247,
           0.18634037253039065
          ],
          [
           0.03649559220115429,
           0.08154870994331498,
           0.14563278380361902,
           0.02130403764400649,
           0.1228425696060778,
           0.014858302028278555,
           0.0515005620061642,
           0.1081182182930717,
           0.19479732791712998,
           0.308842247970515,
           0.09187327030127193,
           1,
           0.05829495671434597,
           0.05616761673729173,
           0.04406068009791128,
           0.061075721089187796,
           0.12501874784015685,
           0.11737119063502327,
           0.0031299729420588215,
           0.09106752101455766,
           0.05209217550802814,
           0.047814867490636015
          ],
          [
           0.12128602000362697,
           0.10581738595534791,
           0.07874944348224792,
           0.07068634533291288,
           0.1720992623159866,
           0.021921932749198344,
           0.14062765163445656,
           0.12154583285647931,
           0.35103930343863166,
           0.5565567493108189,
           0.16556248053314027,
           0.05829495671434597,
           1,
           0.10121823161586119,
           0.07940062944386504,
           0.1100630014662298,
           0.2252931014395066,
           0.21151163337214426,
           0.005640444523086664,
           0.18309238694357682,
           0.09929125483766596,
           0.09957880892168747
          ],
          [
           0.03537961680130093,
           0.1375093977028515,
           0.06399551260407163,
           0.023934497978471043,
           0.2522827132618992,
           0.014060558492213732,
           0.16153977683773454,
           0.2107347529893607,
           0.3382289337975405,
           0.5362464945471025,
           0.15952065970695406,
           0.05616761673729173,
           0.10121823161586119,
           1,
           0.07650308662473429,
           0.10604650610864694,
           0.2170715493832061,
           0.20379300420342497,
           0.0054346095109583355,
           0.17019307447099502,
           0.07892820747355515,
           0.10103102814867594
          ],
          [
           0.07678954793862214,
           0.08557673961177331,
           0.0712680696655027,
           0.17715085940122421,
           0.025841489771767936,
           0.05414909410581616,
           0.04303578948069104,
           0.0017520812634367745,
           0.2653236458583194,
           0.07874883425837763,
           0.24189816459740004,
           0.04406068009791128,
           0.07940062944386504,
           0.07650308662473429,
           1,
           0.08318816878074944,
           0.170281750433987,
           0.15986539728750404,
           0.004263178767925546,
           0.016546421763266025,
           0.049914931078441194,
           0.016935448003004172
          ],
          [
           0.11038798645978391,
           0.03049603123919861,
           0.00883786126954342,
           0.054708472854414304,
           0.04376886509649488,
           0.032038418849276794,
           0.020787609745464748,
           0.027314187535819313,
           0.05555473859786642,
           0.08114212835948764,
           0.15545492632808677,
           0.061075721089187796,
           0.1100630014662298,
           0.10604650610864694,
           0.08318816878074944,
           1,
           0.23603994929206631,
           0.22160108275329768,
           0.0059095029129047115,
           0.07100524596925378,
           0.05343876100994679,
           0.0968603438061154
          ],
          [
           0.22755250208968392,
           0.022714569307699824,
           0.07053221508680137,
           0.09279311069298521,
           0.13964604112243587,
           0.08069341272916503,
           0.08828761658289634,
           0.0960217720405516,
           0.07668095621750637,
           0.40479807624017766,
           0.3402014396377315,
           0.12501874784015685,
           0.2252931014395066,
           0.2170715493832061,
           0.170281750433987,
           0.23603994929206631,
           1,
           0.4536056127013899,
           0.012096437690031435,
           0.11309277429799755,
           0.01652404979420817,
           0.11082488369111018
          ],
          [
           0.2598841626415897,
           0.22509373571813382,
           0.10346944841697445,
           0.1523502950874604,
           0.15562283888966943,
           0.12011999636238033,
           0.1283855112372902,
           0.1332249958785346,
           0.6025297774359355,
           0.3800360585583753,
           0.3333438527089673,
           0.11737119063502327,
           0.21151163337214426,
           0.20379300420342497,
           0.15986539728750404,
           0.22160108275329768,
           0.4536056127013899,
           1,
           0.011356483076735136,
           0.10278074979525796,
           0.21042125964543978,
           0.04208449160961802
          ],
          [
           0.012854597411098982,
           0.01329941421313907,
           0.0027592509892989257,
           0.006017019179326463,
           0.020767731367105472,
           0.005355763708056442,
           0.019264685975620595,
           0.014224236927995897,
           0.01884800303988738,
           0.02988264618840303,
           0.008889381063067945,
           0.0031299729420588215,
           0.005640444523086664,
           0.0054346095109583355,
           0.004263178767925546,
           0.0059095029129047115,
           0.012096437690031435,
           0.011356483076735136,
           1,
           0.009053126848031421,
           0.005615597699430399,
           0.01159088178774443
          ],
          [
           0.06368113283952986,
           0.018651602034638344,
           0.04421525236627973,
           0.0332664593906261,
           0.13310819562774442,
           0.009218705846558853,
           0.07755380923536806,
           0.0909177623579052,
           0.15394143043000996,
           0.29474421412460483,
           0.12700520847159197,
           0.09106752101455766,
           0.18309238694357682,
           0.17019307447099502,
           0.016546421763266025,
           0.07100524596925378,
           0.11309277429799755,
           0.10278074979525796,
           0.009053126848031421,
           1,
           0.16786944782810836,
           0.7810559208362914
          ],
          [
           0.09328714429172684,
           0.024093385617674656,
           0.0009307517875429478,
           0.06189913819735589,
           0.06671292806111355,
           0.0345352798182264,
           0.05540325539441847,
           0.04742198420448674,
           0.24078414456395641,
           0.16767377990692775,
           0.11624726579479247,
           0.05209217550802814,
           0.09929125483766596,
           0.07892820747355515,
           0.049914931078441194,
           0.05343876100994679,
           0.01652404979420817,
           0.21042125964543978,
           0.005615597699430399,
           0.16786944782810836,
           1,
           0.4844840800091636
          ],
          [
           0.11560294564028092,
           0.0012893378421605078,
           0.03864671436837367,
           0.06873044188133294,
           0.07585994295669943,
           0.030056994687383324,
           0.033725491816427935,
           0.050640306481383686,
           0.01591824526819167,
           0.15534091708531142,
           0.18634037253039065,
           0.047814867490636015,
           0.09957880892168747,
           0.10103102814867594,
           0.016935448003004172,
           0.0968603438061154,
           0.11082488369111018,
           0.04208449160961802,
           0.01159088178774443,
           0.7810559208362914,
           0.4844840800091636,
           1
          ]
         ]
        }
       ],
       "layout": {
        "annotations": [
         {
          "font": {
           "size": 8
          },
          "showarrow": false,
          "text": "1.00",
          "x": "CryoSleep",
          "y": "CryoSleep"
         },
         {
          "font": {
           "size": 8
          },
          "showarrow": false,
          "text": "0.09",
          "x": "Age",
          "y": "CryoSleep"
         },
         {
          "font": {
           "size": 8
          },
          "showarrow": false,
          "text": "0.08",
          "x": "VIP",
          "y": "CryoSleep"
         },
         {
          "font": {
           "size": 8
          },
          "showarrow": false,
          "text": "0.26",
          "x": "RoomService",
          "y": "CryoSleep"
         },
         {
          "font": {
           "size": 8
          },
          "showarrow": false,
          "text": "0.21",
          "x": "FoodCourt",
          "y": "CryoSleep"
         },
         {
          "font": {
           "size": 8
          },
          "showarrow": false,
          "text": "0.23",
          "x": "ShoppingMall",
          "y": "CryoSleep"
         },
         {
          "font": {
           "size": 8
          },
          "showarrow": false,
          "text": "0.20",
          "x": "Spa",
          "y": "CryoSleep"
         },
         {
          "font": {
           "size": 8
          },
          "showarrow": false,
          "text": "0.20",
          "x": "VRDeck",
          "y": "CryoSleep"
         },
         {
          "font": {
           "size": 8
          },
          "showarrow": false,
          "text": "0.11",
          "x": "HomePlanet_Earth",
          "y": "CryoSleep"
         },
         {
          "font": {
           "size": 8
          },
          "showarrow": false,
          "text": "0.10",
          "x": "HomePlanet_Europa",
          "y": "CryoSleep"
         },
         {
          "font": {
           "size": 8
          },
          "showarrow": false,
          "text": "0.03",
          "x": "HomePlanet_Mars",
          "y": "CryoSleep"
         },
         {
          "font": {
           "size": 8
          },
          "showarrow": false,
          "text": "0.04",
          "x": "Cabin_A",
          "y": "CryoSleep"
         },
         {
          "font": {
           "size": 8
          },
          "showarrow": false,
          "text": "0.12",
          "x": "Cabin_B",
          "y": "CryoSleep"
         },
         {
          "font": {
           "size": 8
          },
          "showarrow": false,
          "text": "0.04",
          "x": "Cabin_C",
          "y": "CryoSleep"
         },
         {
          "font": {
           "size": 8
          },
          "showarrow": false,
          "text": "0.08",
          "x": "Cabin_D",
          "y": "CryoSleep"
         },
         {
          "font": {
           "size": 8
          },
          "showarrow": false,
          "text": "0.11",
          "x": "Cabin_E",
          "y": "CryoSleep"
         },
         {
          "font": {
           "size": 8
          },
          "showarrow": false,
          "text": "0.23",
          "x": "Cabin_F",
          "y": "CryoSleep"
         },
         {
          "font": {
           "size": 8
          },
          "showarrow": false,
          "text": "0.26",
          "x": "Cabin_G",
          "y": "CryoSleep"
         },
         {
          "font": {
           "size": 8
          },
          "showarrow": false,
          "text": "0.01",
          "x": "Cabin_T",
          "y": "CryoSleep"
         },
         {
          "font": {
           "size": 8
          },
          "showarrow": false,
          "text": "0.06",
          "x": "Destination_55 Cancri e",
          "y": "CryoSleep"
         },
         {
          "font": {
           "size": 8
          },
          "showarrow": false,
          "text": "0.09",
          "x": "Destination_PSO J318.5-22",
          "y": "CryoSleep"
         },
         {
          "font": {
           "size": 8
          },
          "showarrow": false,
          "text": "0.12",
          "x": "Destination_TRAPPIST-1e",
          "y": "CryoSleep"
         },
         {
          "font": {
           "size": 8
          },
          "showarrow": false,
          "text": "0.09",
          "x": "CryoSleep",
          "y": "Age"
         },
         {
          "font": {
           "size": 8
          },
          "showarrow": false,
          "text": "1.00",
          "x": "Age",
          "y": "Age"
         },
         {
          "font": {
           "size": 8
          },
          "showarrow": false,
          "text": "0.10",
          "x": "VIP",
          "y": "Age"
         },
         {
          "font": {
           "size": 8
          },
          "showarrow": false,
          "text": "0.07",
          "x": "RoomService",
          "y": "Age"
         },
         {
          "font": {
           "size": 8
          },
          "showarrow": false,
          "text": "0.14",
          "x": "FoodCourt",
          "y": "Age"
         },
         {
          "font": {
           "size": 8
          },
          "showarrow": false,
          "text": "0.04",
          "x": "ShoppingMall",
          "y": "Age"
         },
         {
          "font": {
           "size": 8
          },
          "showarrow": false,
          "text": "0.12",
          "x": "Spa",
          "y": "Age"
         },
         {
          "font": {
           "size": 8
          },
          "showarrow": false,
          "text": "0.11",
          "x": "VRDeck",
          "y": "Age"
         },
         {
          "font": {
           "size": 8
          },
          "showarrow": false,
          "text": "0.21",
          "x": "HomePlanet_Earth",
          "y": "Age"
         },
         {
          "font": {
           "size": 8
          },
          "showarrow": false,
          "text": "0.23",
          "x": "HomePlanet_Europa",
          "y": "Age"
         },
         {
          "font": {
           "size": 8
          },
          "showarrow": false,
          "text": "0.02",
          "x": "HomePlanet_Mars",
          "y": "Age"
         },
         {
          "font": {
           "size": 8
          },
          "showarrow": false,
          "text": "0.08",
          "x": "Cabin_A",
          "y": "Age"
         },
         {
          "font": {
           "size": 8
          },
          "showarrow": false,
          "text": "0.11",
          "x": "Cabin_B",
          "y": "Age"
         },
         {
          "font": {
           "size": 8
          },
          "showarrow": false,
          "text": "0.14",
          "x": "Cabin_C",
          "y": "Age"
         },
         {
          "font": {
           "size": 8
          },
          "showarrow": false,
          "text": "0.09",
          "x": "Cabin_D",
          "y": "Age"
         },
         {
          "font": {
           "size": 8
          },
          "showarrow": false,
          "text": "0.03",
          "x": "Cabin_E",
          "y": "Age"
         },
         {
          "font": {
           "size": 8
          },
          "showarrow": false,
          "text": "0.02",
          "x": "Cabin_F",
          "y": "Age"
         },
         {
          "font": {
           "size": 8
          },
          "showarrow": false,
          "text": "0.23",
          "x": "Cabin_G",
          "y": "Age"
         },
         {
          "font": {
           "size": 8
          },
          "showarrow": false,
          "text": "0.01",
          "x": "Cabin_T",
          "y": "Age"
         },
         {
          "font": {
           "size": 8
          },
          "showarrow": false,
          "text": "0.02",
          "x": "Destination_55 Cancri e",
          "y": "Age"
         },
         {
          "font": {
           "size": 8
          },
          "showarrow": false,
          "text": "0.02",
          "x": "Destination_PSO J318.5-22",
          "y": "Age"
         },
         {
          "font": {
           "size": 8
          },
          "showarrow": false,
          "text": "0.00",
          "x": "Destination_TRAPPIST-1e",
          "y": "Age"
         },
         {
          "font": {
           "size": 8
          },
          "showarrow": false,
          "text": "0.08",
          "x": "CryoSleep",
          "y": "VIP"
         },
         {
          "font": {
           "size": 8
          },
          "showarrow": false,
          "text": "0.10",
          "x": "Age",
          "y": "VIP"
         },
         {
          "font": {
           "size": 8
          },
          "showarrow": false,
          "text": "1.00",
          "x": "VIP",
          "y": "VIP"
         },
         {
          "font": {
           "size": 8
          },
          "showarrow": false,
          "text": "0.03",
          "x": "RoomService",
          "y": "VIP"
         },
         {
          "font": {
           "size": 8
          },
          "showarrow": false,
          "text": "0.14",
          "x": "FoodCourt",
          "y": "VIP"
         },
         {
          "font": {
           "size": 8
          },
          "showarrow": false,
          "text": "0.01",
          "x": "ShoppingMall",
          "y": "VIP"
         },
         {
          "font": {
           "size": 8
          },
          "showarrow": false,
          "text": "0.06",
          "x": "Spa",
          "y": "VIP"
         },
         {
          "font": {
           "size": 8
          },
          "showarrow": false,
          "text": "0.13",
          "x": "VRDeck",
          "y": "VIP"
         },
         {
          "font": {
           "size": 8
          },
          "showarrow": false,
          "text": "0.17",
          "x": "HomePlanet_Earth",
          "y": "VIP"
         },
         {
          "font": {
           "size": 8
          },
          "showarrow": false,
          "text": "0.16",
          "x": "HomePlanet_Europa",
          "y": "VIP"
         },
         {
          "font": {
           "size": 8
          },
          "showarrow": false,
          "text": "0.04",
          "x": "HomePlanet_Mars",
          "y": "VIP"
         },
         {
          "font": {
           "size": 8
          },
          "showarrow": false,
          "text": "0.15",
          "x": "Cabin_A",
          "y": "VIP"
         },
         {
          "font": {
           "size": 8
          },
          "showarrow": false,
          "text": "0.08",
          "x": "Cabin_B",
          "y": "VIP"
         },
         {
          "font": {
           "size": 8
          },
          "showarrow": false,
          "text": "0.06",
          "x": "Cabin_C",
          "y": "VIP"
         },
         {
          "font": {
           "size": 8
          },
          "showarrow": false,
          "text": "0.07",
          "x": "Cabin_D",
          "y": "VIP"
         },
         {
          "font": {
           "size": 8
          },
          "showarrow": false,
          "text": "0.01",
          "x": "Cabin_E",
          "y": "VIP"
         },
         {
          "font": {
           "size": 8
          },
          "showarrow": false,
          "text": "0.07",
          "x": "Cabin_F",
          "y": "VIP"
         },
         {
          "font": {
           "size": 8
          },
          "showarrow": false,
          "text": "0.10",
          "x": "Cabin_G",
          "y": "VIP"
         },
         {
          "font": {
           "size": 8
          },
          "showarrow": false,
          "text": "0.00",
          "x": "Cabin_T",
          "y": "VIP"
         },
         {
          "font": {
           "size": 8
          },
          "showarrow": false,
          "text": "0.04",
          "x": "Destination_55 Cancri e",
          "y": "VIP"
         },
         {
          "font": {
           "size": 8
          },
          "showarrow": false,
          "text": "0.00",
          "x": "Destination_PSO J318.5-22",
          "y": "VIP"
         },
         {
          "font": {
           "size": 8
          },
          "showarrow": false,
          "text": "0.04",
          "x": "Destination_TRAPPIST-1e",
          "y": "VIP"
         },
         {
          "font": {
           "size": 8
          },
          "showarrow": false,
          "text": "0.26",
          "x": "CryoSleep",
          "y": "RoomService"
         },
         {
          "font": {
           "size": 8
          },
          "showarrow": false,
          "text": "0.07",
          "x": "Age",
          "y": "RoomService"
         },
         {
          "font": {
           "size": 8
          },
          "showarrow": false,
          "text": "0.03",
          "x": "VIP",
          "y": "RoomService"
         },
         {
          "font": {
           "size": 8
          },
          "showarrow": false,
          "text": "1.00",
          "x": "RoomService",
          "y": "RoomService"
         },
         {
          "font": {
           "size": 8
          },
          "showarrow": false,
          "text": "0.01",
          "x": "FoodCourt",
          "y": "RoomService"
         },
         {
          "font": {
           "size": 8
          },
          "showarrow": false,
          "text": "0.06",
          "x": "ShoppingMall",
          "y": "RoomService"
         },
         {
          "font": {
           "size": 8
          },
          "showarrow": false,
          "text": "0.01",
          "x": "Spa",
          "y": "RoomService"
         },
         {
          "font": {
           "size": 8
          },
          "showarrow": false,
          "text": "0.03",
          "x": "VRDeck",
          "y": "RoomService"
         },
         {
          "font": {
           "size": 8
          },
          "showarrow": false,
          "text": "0.14",
          "x": "HomePlanet_Earth",
          "y": "RoomService"
         },
         {
          "font": {
           "size": 8
          },
          "showarrow": false,
          "text": "0.08",
          "x": "HomePlanet_Europa",
          "y": "RoomService"
         },
         {
          "font": {
           "size": 8
          },
          "showarrow": false,
          "text": "0.27",
          "x": "HomePlanet_Mars",
          "y": "RoomService"
         },
         {
          "font": {
           "size": 8
          },
          "showarrow": false,
          "text": "0.02",
          "x": "Cabin_A",
          "y": "RoomService"
         },
         {
          "font": {
           "size": 8
          },
          "showarrow": false,
          "text": "0.07",
          "x": "Cabin_B",
          "y": "RoomService"
         },
         {
          "font": {
           "size": 8
          },
          "showarrow": false,
          "text": "0.02",
          "x": "Cabin_C",
          "y": "RoomService"
         },
         {
          "font": {
           "size": 8
          },
          "showarrow": false,
          "text": "0.18",
          "x": "Cabin_D",
          "y": "RoomService"
         },
         {
          "font": {
           "size": 8
          },
          "showarrow": false,
          "text": "0.05",
          "x": "Cabin_E",
          "y": "RoomService"
         },
         {
          "font": {
           "size": 8
          },
          "showarrow": false,
          "text": "0.09",
          "x": "Cabin_F",
          "y": "RoomService"
         },
         {
          "font": {
           "size": 8
          },
          "showarrow": false,
          "text": "0.15",
          "x": "Cabin_G",
          "y": "RoomService"
         },
         {
          "font": {
           "size": 8
          },
          "showarrow": false,
          "text": "0.01",
          "x": "Cabin_T",
          "y": "RoomService"
         },
         {
          "font": {
           "size": 8
          },
          "showarrow": false,
          "text": "0.03",
          "x": "Destination_55 Cancri e",
          "y": "RoomService"
         },
         {
          "font": {
           "size": 8
          },
          "showarrow": false,
          "text": "0.06",
          "x": "Destination_PSO J318.5-22",
          "y": "RoomService"
         },
         {
          "font": {
           "size": 8
          },
          "showarrow": false,
          "text": "0.07",
          "x": "Destination_TRAPPIST-1e",
          "y": "RoomService"
         },
         {
          "font": {
           "size": 8
          },
          "showarrow": false,
          "text": "0.21",
          "x": "CryoSleep",
          "y": "FoodCourt"
         },
         {
          "font": {
           "size": 8
          },
          "showarrow": false,
          "text": "0.14",
          "x": "Age",
          "y": "FoodCourt"
         },
         {
          "font": {
           "size": 8
          },
          "showarrow": false,
          "text": "0.14",
          "x": "VIP",
          "y": "FoodCourt"
         },
         {
          "font": {
           "size": 8
          },
          "showarrow": false,
          "text": "0.01",
          "x": "RoomService",
          "y": "FoodCourt"
         },
         {
          "font": {
           "size": 8
          },
          "showarrow": false,
          "text": "1.00",
          "x": "FoodCourt",
          "y": "FoodCourt"
         },
         {
          "font": {
           "size": 8
          },
          "showarrow": false,
          "text": "0.01",
          "x": "ShoppingMall",
          "y": "FoodCourt"
         },
         {
          "font": {
           "size": 8
          },
          "showarrow": false,
          "text": "0.22",
          "x": "Spa",
          "y": "FoodCourt"
         },
         {
          "font": {
           "size": 8
          },
          "showarrow": false,
          "text": "0.22",
          "x": "VRDeck",
          "y": "FoodCourt"
         },
         {
          "font": {
           "size": 8
          },
          "showarrow": false,
          "text": "0.22",
          "x": "HomePlanet_Earth",
          "y": "FoodCourt"
         },
         {
          "font": {
           "size": 8
          },
          "showarrow": false,
          "text": "0.37",
          "x": "HomePlanet_Europa",
          "y": "FoodCourt"
         },
         {
          "font": {
           "size": 8
          },
          "showarrow": false,
          "text": "0.13",
          "x": "HomePlanet_Mars",
          "y": "FoodCourt"
         },
         {
          "font": {
           "size": 8
          },
          "showarrow": false,
          "text": "0.12",
          "x": "Cabin_A",
          "y": "FoodCourt"
         },
         {
          "font": {
           "size": 8
          },
          "showarrow": false,
          "text": "0.17",
          "x": "Cabin_B",
          "y": "FoodCourt"
         },
         {
          "font": {
           "size": 8
          },
          "showarrow": false,
          "text": "0.25",
          "x": "Cabin_C",
          "y": "FoodCourt"
         },
         {
          "font": {
           "size": 8
          },
          "showarrow": false,
          "text": "0.03",
          "x": "Cabin_D",
          "y": "FoodCourt"
         },
         {
          "font": {
           "size": 8
          },
          "showarrow": false,
          "text": "0.04",
          "x": "Cabin_E",
          "y": "FoodCourt"
         },
         {
          "font": {
           "size": 8
          },
          "showarrow": false,
          "text": "0.14",
          "x": "Cabin_F",
          "y": "FoodCourt"
         },
         {
          "font": {
           "size": 8
          },
          "showarrow": false,
          "text": "0.16",
          "x": "Cabin_G",
          "y": "FoodCourt"
         },
         {
          "font": {
           "size": 8
          },
          "showarrow": false,
          "text": "0.02",
          "x": "Cabin_T",
          "y": "FoodCourt"
         },
         {
          "font": {
           "size": 8
          },
          "showarrow": false,
          "text": "0.13",
          "x": "Destination_55 Cancri e",
          "y": "FoodCourt"
         },
         {
          "font": {
           "size": 8
          },
          "showarrow": false,
          "text": "0.07",
          "x": "Destination_PSO J318.5-22",
          "y": "FoodCourt"
         },
         {
          "font": {
           "size": 8
          },
          "showarrow": false,
          "text": "0.08",
          "x": "Destination_TRAPPIST-1e",
          "y": "FoodCourt"
         },
         {
          "font": {
           "size": 8
          },
          "showarrow": false,
          "text": "0.23",
          "x": "CryoSleep",
          "y": "ShoppingMall"
         },
         {
          "font": {
           "size": 8
          },
          "showarrow": false,
          "text": "0.04",
          "x": "Age",
          "y": "ShoppingMall"
         },
         {
          "font": {
           "size": 8
          },
          "showarrow": false,
          "text": "0.01",
          "x": "VIP",
          "y": "ShoppingMall"
         },
         {
          "font": {
           "size": 8
          },
          "showarrow": false,
          "text": "0.06",
          "x": "RoomService",
          "y": "ShoppingMall"
         },
         {
          "font": {
           "size": 8
          },
          "showarrow": false,
          "text": "0.01",
          "x": "FoodCourt",
          "y": "ShoppingMall"
         },
         {
          "font": {
           "size": 8
          },
          "showarrow": false,
          "text": "1.00",
          "x": "ShoppingMall",
          "y": "ShoppingMall"
         },
         {
          "font": {
           "size": 8
          },
          "showarrow": false,
          "text": "0.02",
          "x": "Spa",
          "y": "ShoppingMall"
         },
         {
          "font": {
           "size": 8
          },
          "showarrow": false,
          "text": "0.00",
          "x": "VRDeck",
          "y": "ShoppingMall"
         },
         {
          "font": {
           "size": 8
          },
          "showarrow": false,
          "text": "0.08",
          "x": "HomePlanet_Earth",
          "y": "ShoppingMall"
         },
         {
          "font": {
           "size": 8
          },
          "showarrow": false,
          "text": "0.02",
          "x": "HomePlanet_Europa",
          "y": "ShoppingMall"
         },
         {
          "font": {
           "size": 8
          },
          "showarrow": false,
          "text": "0.13",
          "x": "HomePlanet_Mars",
          "y": "ShoppingMall"
         },
         {
          "font": {
           "size": 8
          },
          "showarrow": false,
          "text": "0.01",
          "x": "Cabin_A",
          "y": "ShoppingMall"
         },
         {
          "font": {
           "size": 8
          },
          "showarrow": false,
          "text": "0.02",
          "x": "Cabin_B",
          "y": "ShoppingMall"
         },
         {
          "font": {
           "size": 8
          },
          "showarrow": false,
          "text": "0.01",
          "x": "Cabin_C",
          "y": "ShoppingMall"
         },
         {
          "font": {
           "size": 8
          },
          "showarrow": false,
          "text": "0.05",
          "x": "Cabin_D",
          "y": "ShoppingMall"
         },
         {
          "font": {
           "size": 8
          },
          "showarrow": false,
          "text": "0.03",
          "x": "Cabin_E",
          "y": "ShoppingMall"
         },
         {
          "font": {
           "size": 8
          },
          "showarrow": false,
          "text": "0.08",
          "x": "Cabin_F",
          "y": "ShoppingMall"
         },
         {
          "font": {
           "size": 8
          },
          "showarrow": false,
          "text": "0.12",
          "x": "Cabin_G",
          "y": "ShoppingMall"
         },
         {
          "font": {
           "size": 8
          },
          "showarrow": false,
          "text": "0.01",
          "x": "Cabin_T",
          "y": "ShoppingMall"
         },
         {
          "font": {
           "size": 8
          },
          "showarrow": false,
          "text": "0.01",
          "x": "Destination_55 Cancri e",
          "y": "ShoppingMall"
         },
         {
          "font": {
           "size": 8
          },
          "showarrow": false,
          "text": "0.03",
          "x": "Destination_PSO J318.5-22",
          "y": "ShoppingMall"
         },
         {
          "font": {
           "size": 8
          },
          "showarrow": false,
          "text": "0.03",
          "x": "Destination_TRAPPIST-1e",
          "y": "ShoppingMall"
         },
         {
          "font": {
           "size": 8
          },
          "showarrow": false,
          "text": "0.20",
          "x": "CryoSleep",
          "y": "Spa"
         },
         {
          "font": {
           "size": 8
          },
          "showarrow": false,
          "text": "0.12",
          "x": "Age",
          "y": "Spa"
         },
         {
          "font": {
           "size": 8
          },
          "showarrow": false,
          "text": "0.06",
          "x": "VIP",
          "y": "Spa"
         },
         {
          "font": {
           "size": 8
          },
          "showarrow": false,
          "text": "0.01",
          "x": "RoomService",
          "y": "Spa"
         },
         {
          "font": {
           "size": 8
          },
          "showarrow": false,
          "text": "0.22",
          "x": "FoodCourt",
          "y": "Spa"
         },
         {
          "font": {
           "size": 8
          },
          "showarrow": false,
          "text": "0.02",
          "x": "ShoppingMall",
          "y": "Spa"
         },
         {
          "font": {
           "size": 8
          },
          "showarrow": false,
          "text": "1.00",
          "x": "Spa",
          "y": "Spa"
         },
         {
          "font": {
           "size": 8
          },
          "showarrow": false,
          "text": "0.15",
          "x": "VRDeck",
          "y": "Spa"
         },
         {
          "font": {
           "size": 8
          },
          "showarrow": false,
          "text": "0.16",
          "x": "HomePlanet_Earth",
          "y": "Spa"
         },
         {
          "font": {
           "size": 8
          },
          "showarrow": false,
          "text": "0.27",
          "x": "HomePlanet_Europa",
          "y": "Spa"
         },
         {
          "font": {
           "size": 8
          },
          "showarrow": false,
          "text": "0.09",
          "x": "HomePlanet_Mars",
          "y": "Spa"
         },
         {
          "font": {
           "size": 8
          },
          "showarrow": false,
          "text": "0.05",
          "x": "Cabin_A",
          "y": "Spa"
         },
         {
          "font": {
           "size": 8
          },
          "showarrow": false,
          "text": "0.14",
          "x": "Cabin_B",
          "y": "Spa"
         },
         {
          "font": {
           "size": 8
          },
          "showarrow": false,
          "text": "0.16",
          "x": "Cabin_C",
          "y": "Spa"
         },
         {
          "font": {
           "size": 8
          },
          "showarrow": false,
          "text": "0.04",
          "x": "Cabin_D",
          "y": "Spa"
         },
         {
          "font": {
           "size": 8
          },
          "showarrow": false,
          "text": "0.02",
          "x": "Cabin_E",
          "y": "Spa"
         },
         {
          "font": {
           "size": 8
          },
          "showarrow": false,
          "text": "0.09",
          "x": "Cabin_F",
          "y": "Spa"
         },
         {
          "font": {
           "size": 8
          },
          "showarrow": false,
          "text": "0.13",
          "x": "Cabin_G",
          "y": "Spa"
         },
         {
          "font": {
           "size": 8
          },
          "showarrow": false,
          "text": "0.02",
          "x": "Cabin_T",
          "y": "Spa"
         },
         {
          "font": {
           "size": 8
          },
          "showarrow": false,
          "text": "0.08",
          "x": "Destination_55 Cancri e",
          "y": "Spa"
         },
         {
          "font": {
           "size": 8
          },
          "showarrow": false,
          "text": "0.06",
          "x": "Destination_PSO J318.5-22",
          "y": "Spa"
         },
         {
          "font": {
           "size": 8
          },
          "showarrow": false,
          "text": "0.03",
          "x": "Destination_TRAPPIST-1e",
          "y": "Spa"
         },
         {
          "font": {
           "size": 8
          },
          "showarrow": false,
          "text": "0.20",
          "x": "CryoSleep",
          "y": "VRDeck"
         },
         {
          "font": {
           "size": 8
          },
          "showarrow": false,
          "text": "0.11",
          "x": "Age",
          "y": "VRDeck"
         },
         {
          "font": {
           "size": 8
          },
          "showarrow": false,
          "text": "0.13",
          "x": "VIP",
          "y": "VRDeck"
         },
         {
          "font": {
           "size": 8
          },
          "showarrow": false,
          "text": "0.03",
          "x": "RoomService",
          "y": "VRDeck"
         },
         {
          "font": {
           "size": 8
          },
          "showarrow": false,
          "text": "0.22",
          "x": "FoodCourt",
          "y": "VRDeck"
         },
         {
          "font": {
           "size": 8
          },
          "showarrow": false,
          "text": "0.00",
          "x": "ShoppingMall",
          "y": "VRDeck"
         },
         {
          "font": {
           "size": 8
          },
          "showarrow": false,
          "text": "0.15",
          "x": "Spa",
          "y": "VRDeck"
         },
         {
          "font": {
           "size": 8
          },
          "showarrow": false,
          "text": "1.00",
          "x": "VRDeck",
          "y": "VRDeck"
         },
         {
          "font": {
           "size": 8
          },
          "showarrow": false,
          "text": "0.16",
          "x": "HomePlanet_Earth",
          "y": "VRDeck"
         },
         {
          "font": {
           "size": 8
          },
          "showarrow": false,
          "text": "0.29",
          "x": "HomePlanet_Europa",
          "y": "VRDeck"
         },
         {
          "font": {
           "size": 8
          },
          "showarrow": false,
          "text": "0.12",
          "x": "HomePlanet_Mars",
          "y": "VRDeck"
         },
         {
          "font": {
           "size": 8
          },
          "showarrow": false,
          "text": "0.11",
          "x": "Cabin_A",
          "y": "VRDeck"
         },
         {
          "font": {
           "size": 8
          },
          "showarrow": false,
          "text": "0.12",
          "x": "Cabin_B",
          "y": "VRDeck"
         },
         {
          "font": {
           "size": 8
          },
          "showarrow": false,
          "text": "0.21",
          "x": "Cabin_C",
          "y": "VRDeck"
         },
         {
          "font": {
           "size": 8
          },
          "showarrow": false,
          "text": "0.00",
          "x": "Cabin_D",
          "y": "VRDeck"
         },
         {
          "font": {
           "size": 8
          },
          "showarrow": false,
          "text": "0.03",
          "x": "Cabin_E",
          "y": "VRDeck"
         },
         {
          "font": {
           "size": 8
          },
          "showarrow": false,
          "text": "0.10",
          "x": "Cabin_F",
          "y": "VRDeck"
         },
         {
          "font": {
           "size": 8
          },
          "showarrow": false,
          "text": "0.13",
          "x": "Cabin_G",
          "y": "VRDeck"
         },
         {
          "font": {
           "size": 8
          },
          "showarrow": false,
          "text": "0.01",
          "x": "Cabin_T",
          "y": "VRDeck"
         },
         {
          "font": {
           "size": 8
          },
          "showarrow": false,
          "text": "0.09",
          "x": "Destination_55 Cancri e",
          "y": "VRDeck"
         },
         {
          "font": {
           "size": 8
          },
          "showarrow": false,
          "text": "0.05",
          "x": "Destination_PSO J318.5-22",
          "y": "VRDeck"
         },
         {
          "font": {
           "size": 8
          },
          "showarrow": false,
          "text": "0.05",
          "x": "Destination_TRAPPIST-1e",
          "y": "VRDeck"
         },
         {
          "font": {
           "size": 8
          },
          "showarrow": false,
          "text": "0.11",
          "x": "CryoSleep",
          "y": "HomePlanet_Earth"
         },
         {
          "font": {
           "size": 8
          },
          "showarrow": false,
          "text": "0.21",
          "x": "Age",
          "y": "HomePlanet_Earth"
         },
         {
          "font": {
           "size": 8
          },
          "showarrow": false,
          "text": "0.17",
          "x": "VIP",
          "y": "HomePlanet_Earth"
         },
         {
          "font": {
           "size": 8
          },
          "showarrow": false,
          "text": "0.14",
          "x": "RoomService",
          "y": "HomePlanet_Earth"
         },
         {
          "font": {
           "size": 8
          },
          "showarrow": false,
          "text": "0.22",
          "x": "FoodCourt",
          "y": "HomePlanet_Earth"
         },
         {
          "font": {
           "size": 8
          },
          "showarrow": false,
          "text": "0.08",
          "x": "ShoppingMall",
          "y": "HomePlanet_Earth"
         },
         {
          "font": {
           "size": 8
          },
          "showarrow": false,
          "text": "0.16",
          "x": "Spa",
          "y": "HomePlanet_Earth"
         },
         {
          "font": {
           "size": 8
          },
          "showarrow": false,
          "text": "0.16",
          "x": "VRDeck",
          "y": "HomePlanet_Earth"
         },
         {
          "font": {
           "size": 8
          },
          "showarrow": false,
          "text": "1.00",
          "x": "HomePlanet_Earth",
          "y": "HomePlanet_Earth"
         },
         {
          "font": {
           "size": 8
          },
          "showarrow": false,
          "text": "0.63",
          "x": "HomePlanet_Europa",
          "y": "HomePlanet_Earth"
         },
         {
          "font": {
           "size": 8
          },
          "showarrow": false,
          "text": "0.55",
          "x": "HomePlanet_Mars",
          "y": "HomePlanet_Earth"
         },
         {
          "font": {
           "size": 8
          },
          "showarrow": false,
          "text": "0.19",
          "x": "Cabin_A",
          "y": "HomePlanet_Earth"
         },
         {
          "font": {
           "size": 8
          },
          "showarrow": false,
          "text": "0.35",
          "x": "Cabin_B",
          "y": "HomePlanet_Earth"
         },
         {
          "font": {
           "size": 8
          },
          "showarrow": false,
          "text": "0.34",
          "x": "Cabin_C",
          "y": "HomePlanet_Earth"
         },
         {
          "font": {
           "size": 8
          },
          "showarrow": false,
          "text": "0.27",
          "x": "Cabin_D",
          "y": "HomePlanet_Earth"
         },
         {
          "font": {
           "size": 8
          },
          "showarrow": false,
          "text": "0.06",
          "x": "Cabin_E",
          "y": "HomePlanet_Earth"
         },
         {
          "font": {
           "size": 8
          },
          "showarrow": false,
          "text": "0.08",
          "x": "Cabin_F",
          "y": "HomePlanet_Earth"
         },
         {
          "font": {
           "size": 8
          },
          "showarrow": false,
          "text": "0.60",
          "x": "Cabin_G",
          "y": "HomePlanet_Earth"
         },
         {
          "font": {
           "size": 8
          },
          "showarrow": false,
          "text": "0.02",
          "x": "Cabin_T",
          "y": "HomePlanet_Earth"
         },
         {
          "font": {
           "size": 8
          },
          "showarrow": false,
          "text": "0.15",
          "x": "Destination_55 Cancri e",
          "y": "HomePlanet_Earth"
         },
         {
          "font": {
           "size": 8
          },
          "showarrow": false,
          "text": "0.24",
          "x": "Destination_PSO J318.5-22",
          "y": "HomePlanet_Earth"
         },
         {
          "font": {
           "size": 8
          },
          "showarrow": false,
          "text": "0.02",
          "x": "Destination_TRAPPIST-1e",
          "y": "HomePlanet_Earth"
         },
         {
          "font": {
           "size": 8
          },
          "showarrow": false,
          "text": "0.10",
          "x": "CryoSleep",
          "y": "HomePlanet_Europa"
         },
         {
          "font": {
           "size": 8
          },
          "showarrow": false,
          "text": "0.23",
          "x": "Age",
          "y": "HomePlanet_Europa"
         },
         {
          "font": {
           "size": 8
          },
          "showarrow": false,
          "text": "0.16",
          "x": "VIP",
          "y": "HomePlanet_Europa"
         },
         {
          "font": {
           "size": 8
          },
          "showarrow": false,
          "text": "0.08",
          "x": "RoomService",
          "y": "HomePlanet_Europa"
         },
         {
          "font": {
           "size": 8
          },
          "showarrow": false,
          "text": "0.37",
          "x": "FoodCourt",
          "y": "HomePlanet_Europa"
         },
         {
          "font": {
           "size": 8
          },
          "showarrow": false,
          "text": "0.02",
          "x": "ShoppingMall",
          "y": "HomePlanet_Europa"
         },
         {
          "font": {
           "size": 8
          },
          "showarrow": false,
          "text": "0.27",
          "x": "Spa",
          "y": "HomePlanet_Europa"
         },
         {
          "font": {
           "size": 8
          },
          "showarrow": false,
          "text": "0.29",
          "x": "VRDeck",
          "y": "HomePlanet_Europa"
         },
         {
          "font": {
           "size": 8
          },
          "showarrow": false,
          "text": "0.63",
          "x": "HomePlanet_Earth",
          "y": "HomePlanet_Europa"
         },
         {
          "font": {
           "size": 8
          },
          "showarrow": false,
          "text": "1.00",
          "x": "HomePlanet_Europa",
          "y": "HomePlanet_Europa"
         },
         {
          "font": {
           "size": 8
          },
          "showarrow": false,
          "text": "0.30",
          "x": "HomePlanet_Mars",
          "y": "HomePlanet_Europa"
         },
         {
          "font": {
           "size": 8
          },
          "showarrow": false,
          "text": "0.31",
          "x": "Cabin_A",
          "y": "HomePlanet_Europa"
         },
         {
          "font": {
           "size": 8
          },
          "showarrow": false,
          "text": "0.56",
          "x": "Cabin_B",
          "y": "HomePlanet_Europa"
         },
         {
          "font": {
           "size": 8
          },
          "showarrow": false,
          "text": "0.54",
          "x": "Cabin_C",
          "y": "HomePlanet_Europa"
         },
         {
          "font": {
           "size": 8
          },
          "showarrow": false,
          "text": "0.08",
          "x": "Cabin_D",
          "y": "HomePlanet_Europa"
         },
         {
          "font": {
           "size": 8
          },
          "showarrow": false,
          "text": "0.08",
          "x": "Cabin_E",
          "y": "HomePlanet_Europa"
         },
         {
          "font": {
           "size": 8
          },
          "showarrow": false,
          "text": "0.40",
          "x": "Cabin_F",
          "y": "HomePlanet_Europa"
         },
         {
          "font": {
           "size": 8
          },
          "showarrow": false,
          "text": "0.38",
          "x": "Cabin_G",
          "y": "HomePlanet_Europa"
         },
         {
          "font": {
           "size": 8
          },
          "showarrow": false,
          "text": "0.03",
          "x": "Cabin_T",
          "y": "HomePlanet_Europa"
         },
         {
          "font": {
           "size": 8
          },
          "showarrow": false,
          "text": "0.29",
          "x": "Destination_55 Cancri e",
          "y": "HomePlanet_Europa"
         },
         {
          "font": {
           "size": 8
          },
          "showarrow": false,
          "text": "0.17",
          "x": "Destination_PSO J318.5-22",
          "y": "HomePlanet_Europa"
         },
         {
          "font": {
           "size": 8
          },
          "showarrow": false,
          "text": "0.16",
          "x": "Destination_TRAPPIST-1e",
          "y": "HomePlanet_Europa"
         },
         {
          "font": {
           "size": 8
          },
          "showarrow": false,
          "text": "0.03",
          "x": "CryoSleep",
          "y": "HomePlanet_Mars"
         },
         {
          "font": {
           "size": 8
          },
          "showarrow": false,
          "text": "0.02",
          "x": "Age",
          "y": "HomePlanet_Mars"
         },
         {
          "font": {
           "size": 8
          },
          "showarrow": false,
          "text": "0.04",
          "x": "VIP",
          "y": "HomePlanet_Mars"
         },
         {
          "font": {
           "size": 8
          },
          "showarrow": false,
          "text": "0.27",
          "x": "RoomService",
          "y": "HomePlanet_Mars"
         },
         {
          "font": {
           "size": 8
          },
          "showarrow": false,
          "text": "0.13",
          "x": "FoodCourt",
          "y": "HomePlanet_Mars"
         },
         {
          "font": {
           "size": 8
          },
          "showarrow": false,
          "text": "0.13",
          "x": "ShoppingMall",
          "y": "HomePlanet_Mars"
         },
         {
          "font": {
           "size": 8
          },
          "showarrow": false,
          "text": "0.09",
          "x": "Spa",
          "y": "HomePlanet_Mars"
         },
         {
          "font": {
           "size": 8
          },
          "showarrow": false,
          "text": "0.12",
          "x": "VRDeck",
          "y": "HomePlanet_Mars"
         },
         {
          "font": {
           "size": 8
          },
          "showarrow": false,
          "text": "0.55",
          "x": "HomePlanet_Earth",
          "y": "HomePlanet_Mars"
         },
         {
          "font": {
           "size": 8
          },
          "showarrow": false,
          "text": "0.30",
          "x": "HomePlanet_Europa",
          "y": "HomePlanet_Mars"
         },
         {
          "font": {
           "size": 8
          },
          "showarrow": false,
          "text": "1.00",
          "x": "HomePlanet_Mars",
          "y": "HomePlanet_Mars"
         },
         {
          "font": {
           "size": 8
          },
          "showarrow": false,
          "text": "0.09",
          "x": "Cabin_A",
          "y": "HomePlanet_Mars"
         },
         {
          "font": {
           "size": 8
          },
          "showarrow": false,
          "text": "0.17",
          "x": "Cabin_B",
          "y": "HomePlanet_Mars"
         },
         {
          "font": {
           "size": 8
          },
          "showarrow": false,
          "text": "0.16",
          "x": "Cabin_C",
          "y": "HomePlanet_Mars"
         },
         {
          "font": {
           "size": 8
          },
          "showarrow": false,
          "text": "0.24",
          "x": "Cabin_D",
          "y": "HomePlanet_Mars"
         },
         {
          "font": {
           "size": 8
          },
          "showarrow": false,
          "text": "0.16",
          "x": "Cabin_E",
          "y": "HomePlanet_Mars"
         },
         {
          "font": {
           "size": 8
          },
          "showarrow": false,
          "text": "0.34",
          "x": "Cabin_F",
          "y": "HomePlanet_Mars"
         },
         {
          "font": {
           "size": 8
          },
          "showarrow": false,
          "text": "0.33",
          "x": "Cabin_G",
          "y": "HomePlanet_Mars"
         },
         {
          "font": {
           "size": 8
          },
          "showarrow": false,
          "text": "0.01",
          "x": "Cabin_T",
          "y": "HomePlanet_Mars"
         },
         {
          "font": {
           "size": 8
          },
          "showarrow": false,
          "text": "0.13",
          "x": "Destination_55 Cancri e",
          "y": "HomePlanet_Mars"
         },
         {
          "font": {
           "size": 8
          },
          "showarrow": false,
          "text": "0.12",
          "x": "Destination_PSO J318.5-22",
          "y": "HomePlanet_Mars"
         },
         {
          "font": {
           "size": 8
          },
          "showarrow": false,
          "text": "0.19",
          "x": "Destination_TRAPPIST-1e",
          "y": "HomePlanet_Mars"
         },
         {
          "font": {
           "size": 8
          },
          "showarrow": false,
          "text": "0.04",
          "x": "CryoSleep",
          "y": "Cabin_A"
         },
         {
          "font": {
           "size": 8
          },
          "showarrow": false,
          "text": "0.08",
          "x": "Age",
          "y": "Cabin_A"
         },
         {
          "font": {
           "size": 8
          },
          "showarrow": false,
          "text": "0.15",
          "x": "VIP",
          "y": "Cabin_A"
         },
         {
          "font": {
           "size": 8
          },
          "showarrow": false,
          "text": "0.02",
          "x": "RoomService",
          "y": "Cabin_A"
         },
         {
          "font": {
           "size": 8
          },
          "showarrow": false,
          "text": "0.12",
          "x": "FoodCourt",
          "y": "Cabin_A"
         },
         {
          "font": {
           "size": 8
          },
          "showarrow": false,
          "text": "0.01",
          "x": "ShoppingMall",
          "y": "Cabin_A"
         },
         {
          "font": {
           "size": 8
          },
          "showarrow": false,
          "text": "0.05",
          "x": "Spa",
          "y": "Cabin_A"
         },
         {
          "font": {
           "size": 8
          },
          "showarrow": false,
          "text": "0.11",
          "x": "VRDeck",
          "y": "Cabin_A"
         },
         {
          "font": {
           "size": 8
          },
          "showarrow": false,
          "text": "0.19",
          "x": "HomePlanet_Earth",
          "y": "Cabin_A"
         },
         {
          "font": {
           "size": 8
          },
          "showarrow": false,
          "text": "0.31",
          "x": "HomePlanet_Europa",
          "y": "Cabin_A"
         },
         {
          "font": {
           "size": 8
          },
          "showarrow": false,
          "text": "0.09",
          "x": "HomePlanet_Mars",
          "y": "Cabin_A"
         },
         {
          "font": {
           "size": 8
          },
          "showarrow": false,
          "text": "1.00",
          "x": "Cabin_A",
          "y": "Cabin_A"
         },
         {
          "font": {
           "size": 8
          },
          "showarrow": false,
          "text": "0.06",
          "x": "Cabin_B",
          "y": "Cabin_A"
         },
         {
          "font": {
           "size": 8
          },
          "showarrow": false,
          "text": "0.06",
          "x": "Cabin_C",
          "y": "Cabin_A"
         },
         {
          "font": {
           "size": 8
          },
          "showarrow": false,
          "text": "0.04",
          "x": "Cabin_D",
          "y": "Cabin_A"
         },
         {
          "font": {
           "size": 8
          },
          "showarrow": false,
          "text": "0.06",
          "x": "Cabin_E",
          "y": "Cabin_A"
         },
         {
          "font": {
           "size": 8
          },
          "showarrow": false,
          "text": "0.13",
          "x": "Cabin_F",
          "y": "Cabin_A"
         },
         {
          "font": {
           "size": 8
          },
          "showarrow": false,
          "text": "0.12",
          "x": "Cabin_G",
          "y": "Cabin_A"
         },
         {
          "font": {
           "size": 8
          },
          "showarrow": false,
          "text": "0.00",
          "x": "Cabin_T",
          "y": "Cabin_A"
         },
         {
          "font": {
           "size": 8
          },
          "showarrow": false,
          "text": "0.09",
          "x": "Destination_55 Cancri e",
          "y": "Cabin_A"
         },
         {
          "font": {
           "size": 8
          },
          "showarrow": false,
          "text": "0.05",
          "x": "Destination_PSO J318.5-22",
          "y": "Cabin_A"
         },
         {
          "font": {
           "size": 8
          },
          "showarrow": false,
          "text": "0.05",
          "x": "Destination_TRAPPIST-1e",
          "y": "Cabin_A"
         },
         {
          "font": {
           "size": 8
          },
          "showarrow": false,
          "text": "0.12",
          "x": "CryoSleep",
          "y": "Cabin_B"
         },
         {
          "font": {
           "size": 8
          },
          "showarrow": false,
          "text": "0.11",
          "x": "Age",
          "y": "Cabin_B"
         },
         {
          "font": {
           "size": 8
          },
          "showarrow": false,
          "text": "0.08",
          "x": "VIP",
          "y": "Cabin_B"
         },
         {
          "font": {
           "size": 8
          },
          "showarrow": false,
          "text": "0.07",
          "x": "RoomService",
          "y": "Cabin_B"
         },
         {
          "font": {
           "size": 8
          },
          "showarrow": false,
          "text": "0.17",
          "x": "FoodCourt",
          "y": "Cabin_B"
         },
         {
          "font": {
           "size": 8
          },
          "showarrow": false,
          "text": "0.02",
          "x": "ShoppingMall",
          "y": "Cabin_B"
         },
         {
          "font": {
           "size": 8
          },
          "showarrow": false,
          "text": "0.14",
          "x": "Spa",
          "y": "Cabin_B"
         },
         {
          "font": {
           "size": 8
          },
          "showarrow": false,
          "text": "0.12",
          "x": "VRDeck",
          "y": "Cabin_B"
         },
         {
          "font": {
           "size": 8
          },
          "showarrow": false,
          "text": "0.35",
          "x": "HomePlanet_Earth",
          "y": "Cabin_B"
         },
         {
          "font": {
           "size": 8
          },
          "showarrow": false,
          "text": "0.56",
          "x": "HomePlanet_Europa",
          "y": "Cabin_B"
         },
         {
          "font": {
           "size": 8
          },
          "showarrow": false,
          "text": "0.17",
          "x": "HomePlanet_Mars",
          "y": "Cabin_B"
         },
         {
          "font": {
           "size": 8
          },
          "showarrow": false,
          "text": "0.06",
          "x": "Cabin_A",
          "y": "Cabin_B"
         },
         {
          "font": {
           "size": 8
          },
          "showarrow": false,
          "text": "1.00",
          "x": "Cabin_B",
          "y": "Cabin_B"
         },
         {
          "font": {
           "size": 8
          },
          "showarrow": false,
          "text": "0.10",
          "x": "Cabin_C",
          "y": "Cabin_B"
         },
         {
          "font": {
           "size": 8
          },
          "showarrow": false,
          "text": "0.08",
          "x": "Cabin_D",
          "y": "Cabin_B"
         },
         {
          "font": {
           "size": 8
          },
          "showarrow": false,
          "text": "0.11",
          "x": "Cabin_E",
          "y": "Cabin_B"
         },
         {
          "font": {
           "size": 8
          },
          "showarrow": false,
          "text": "0.23",
          "x": "Cabin_F",
          "y": "Cabin_B"
         },
         {
          "font": {
           "size": 8
          },
          "showarrow": false,
          "text": "0.21",
          "x": "Cabin_G",
          "y": "Cabin_B"
         },
         {
          "font": {
           "size": 8
          },
          "showarrow": false,
          "text": "0.01",
          "x": "Cabin_T",
          "y": "Cabin_B"
         },
         {
          "font": {
           "size": 8
          },
          "showarrow": false,
          "text": "0.18",
          "x": "Destination_55 Cancri e",
          "y": "Cabin_B"
         },
         {
          "font": {
           "size": 8
          },
          "showarrow": false,
          "text": "0.10",
          "x": "Destination_PSO J318.5-22",
          "y": "Cabin_B"
         },
         {
          "font": {
           "size": 8
          },
          "showarrow": false,
          "text": "0.10",
          "x": "Destination_TRAPPIST-1e",
          "y": "Cabin_B"
         },
         {
          "font": {
           "size": 8
          },
          "showarrow": false,
          "text": "0.04",
          "x": "CryoSleep",
          "y": "Cabin_C"
         },
         {
          "font": {
           "size": 8
          },
          "showarrow": false,
          "text": "0.14",
          "x": "Age",
          "y": "Cabin_C"
         },
         {
          "font": {
           "size": 8
          },
          "showarrow": false,
          "text": "0.06",
          "x": "VIP",
          "y": "Cabin_C"
         },
         {
          "font": {
           "size": 8
          },
          "showarrow": false,
          "text": "0.02",
          "x": "RoomService",
          "y": "Cabin_C"
         },
         {
          "font": {
           "size": 8
          },
          "showarrow": false,
          "text": "0.25",
          "x": "FoodCourt",
          "y": "Cabin_C"
         },
         {
          "font": {
           "size": 8
          },
          "showarrow": false,
          "text": "0.01",
          "x": "ShoppingMall",
          "y": "Cabin_C"
         },
         {
          "font": {
           "size": 8
          },
          "showarrow": false,
          "text": "0.16",
          "x": "Spa",
          "y": "Cabin_C"
         },
         {
          "font": {
           "size": 8
          },
          "showarrow": false,
          "text": "0.21",
          "x": "VRDeck",
          "y": "Cabin_C"
         },
         {
          "font": {
           "size": 8
          },
          "showarrow": false,
          "text": "0.34",
          "x": "HomePlanet_Earth",
          "y": "Cabin_C"
         },
         {
          "font": {
           "size": 8
          },
          "showarrow": false,
          "text": "0.54",
          "x": "HomePlanet_Europa",
          "y": "Cabin_C"
         },
         {
          "font": {
           "size": 8
          },
          "showarrow": false,
          "text": "0.16",
          "x": "HomePlanet_Mars",
          "y": "Cabin_C"
         },
         {
          "font": {
           "size": 8
          },
          "showarrow": false,
          "text": "0.06",
          "x": "Cabin_A",
          "y": "Cabin_C"
         },
         {
          "font": {
           "size": 8
          },
          "showarrow": false,
          "text": "0.10",
          "x": "Cabin_B",
          "y": "Cabin_C"
         },
         {
          "font": {
           "size": 8
          },
          "showarrow": false,
          "text": "1.00",
          "x": "Cabin_C",
          "y": "Cabin_C"
         },
         {
          "font": {
           "size": 8
          },
          "showarrow": false,
          "text": "0.08",
          "x": "Cabin_D",
          "y": "Cabin_C"
         },
         {
          "font": {
           "size": 8
          },
          "showarrow": false,
          "text": "0.11",
          "x": "Cabin_E",
          "y": "Cabin_C"
         },
         {
          "font": {
           "size": 8
          },
          "showarrow": false,
          "text": "0.22",
          "x": "Cabin_F",
          "y": "Cabin_C"
         },
         {
          "font": {
           "size": 8
          },
          "showarrow": false,
          "text": "0.20",
          "x": "Cabin_G",
          "y": "Cabin_C"
         },
         {
          "font": {
           "size": 8
          },
          "showarrow": false,
          "text": "0.01",
          "x": "Cabin_T",
          "y": "Cabin_C"
         },
         {
          "font": {
           "size": 8
          },
          "showarrow": false,
          "text": "0.17",
          "x": "Destination_55 Cancri e",
          "y": "Cabin_C"
         },
         {
          "font": {
           "size": 8
          },
          "showarrow": false,
          "text": "0.08",
          "x": "Destination_PSO J318.5-22",
          "y": "Cabin_C"
         },
         {
          "font": {
           "size": 8
          },
          "showarrow": false,
          "text": "0.10",
          "x": "Destination_TRAPPIST-1e",
          "y": "Cabin_C"
         },
         {
          "font": {
           "size": 8
          },
          "showarrow": false,
          "text": "0.08",
          "x": "CryoSleep",
          "y": "Cabin_D"
         },
         {
          "font": {
           "size": 8
          },
          "showarrow": false,
          "text": "0.09",
          "x": "Age",
          "y": "Cabin_D"
         },
         {
          "font": {
           "size": 8
          },
          "showarrow": false,
          "text": "0.07",
          "x": "VIP",
          "y": "Cabin_D"
         },
         {
          "font": {
           "size": 8
          },
          "showarrow": false,
          "text": "0.18",
          "x": "RoomService",
          "y": "Cabin_D"
         },
         {
          "font": {
           "size": 8
          },
          "showarrow": false,
          "text": "0.03",
          "x": "FoodCourt",
          "y": "Cabin_D"
         },
         {
          "font": {
           "size": 8
          },
          "showarrow": false,
          "text": "0.05",
          "x": "ShoppingMall",
          "y": "Cabin_D"
         },
         {
          "font": {
           "size": 8
          },
          "showarrow": false,
          "text": "0.04",
          "x": "Spa",
          "y": "Cabin_D"
         },
         {
          "font": {
           "size": 8
          },
          "showarrow": false,
          "text": "0.00",
          "x": "VRDeck",
          "y": "Cabin_D"
         },
         {
          "font": {
           "size": 8
          },
          "showarrow": false,
          "text": "0.27",
          "x": "HomePlanet_Earth",
          "y": "Cabin_D"
         },
         {
          "font": {
           "size": 8
          },
          "showarrow": false,
          "text": "0.08",
          "x": "HomePlanet_Europa",
          "y": "Cabin_D"
         },
         {
          "font": {
           "size": 8
          },
          "showarrow": false,
          "text": "0.24",
          "x": "HomePlanet_Mars",
          "y": "Cabin_D"
         },
         {
          "font": {
           "size": 8
          },
          "showarrow": false,
          "text": "0.04",
          "x": "Cabin_A",
          "y": "Cabin_D"
         },
         {
          "font": {
           "size": 8
          },
          "showarrow": false,
          "text": "0.08",
          "x": "Cabin_B",
          "y": "Cabin_D"
         },
         {
          "font": {
           "size": 8
          },
          "showarrow": false,
          "text": "0.08",
          "x": "Cabin_C",
          "y": "Cabin_D"
         },
         {
          "font": {
           "size": 8
          },
          "showarrow": false,
          "text": "1.00",
          "x": "Cabin_D",
          "y": "Cabin_D"
         },
         {
          "font": {
           "size": 8
          },
          "showarrow": false,
          "text": "0.08",
          "x": "Cabin_E",
          "y": "Cabin_D"
         },
         {
          "font": {
           "size": 8
          },
          "showarrow": false,
          "text": "0.17",
          "x": "Cabin_F",
          "y": "Cabin_D"
         },
         {
          "font": {
           "size": 8
          },
          "showarrow": false,
          "text": "0.16",
          "x": "Cabin_G",
          "y": "Cabin_D"
         },
         {
          "font": {
           "size": 8
          },
          "showarrow": false,
          "text": "0.00",
          "x": "Cabin_T",
          "y": "Cabin_D"
         },
         {
          "font": {
           "size": 8
          },
          "showarrow": false,
          "text": "0.02",
          "x": "Destination_55 Cancri e",
          "y": "Cabin_D"
         },
         {
          "font": {
           "size": 8
          },
          "showarrow": false,
          "text": "0.05",
          "x": "Destination_PSO J318.5-22",
          "y": "Cabin_D"
         },
         {
          "font": {
           "size": 8
          },
          "showarrow": false,
          "text": "0.02",
          "x": "Destination_TRAPPIST-1e",
          "y": "Cabin_D"
         },
         {
          "font": {
           "size": 8
          },
          "showarrow": false,
          "text": "0.11",
          "x": "CryoSleep",
          "y": "Cabin_E"
         },
         {
          "font": {
           "size": 8
          },
          "showarrow": false,
          "text": "0.03",
          "x": "Age",
          "y": "Cabin_E"
         },
         {
          "font": {
           "size": 8
          },
          "showarrow": false,
          "text": "0.01",
          "x": "VIP",
          "y": "Cabin_E"
         },
         {
          "font": {
           "size": 8
          },
          "showarrow": false,
          "text": "0.05",
          "x": "RoomService",
          "y": "Cabin_E"
         },
         {
          "font": {
           "size": 8
          },
          "showarrow": false,
          "text": "0.04",
          "x": "FoodCourt",
          "y": "Cabin_E"
         },
         {
          "font": {
           "size": 8
          },
          "showarrow": false,
          "text": "0.03",
          "x": "ShoppingMall",
          "y": "Cabin_E"
         },
         {
          "font": {
           "size": 8
          },
          "showarrow": false,
          "text": "0.02",
          "x": "Spa",
          "y": "Cabin_E"
         },
         {
          "font": {
           "size": 8
          },
          "showarrow": false,
          "text": "0.03",
          "x": "VRDeck",
          "y": "Cabin_E"
         },
         {
          "font": {
           "size": 8
          },
          "showarrow": false,
          "text": "0.06",
          "x": "HomePlanet_Earth",
          "y": "Cabin_E"
         },
         {
          "font": {
           "size": 8
          },
          "showarrow": false,
          "text": "0.08",
          "x": "HomePlanet_Europa",
          "y": "Cabin_E"
         },
         {
          "font": {
           "size": 8
          },
          "showarrow": false,
          "text": "0.16",
          "x": "HomePlanet_Mars",
          "y": "Cabin_E"
         },
         {
          "font": {
           "size": 8
          },
          "showarrow": false,
          "text": "0.06",
          "x": "Cabin_A",
          "y": "Cabin_E"
         },
         {
          "font": {
           "size": 8
          },
          "showarrow": false,
          "text": "0.11",
          "x": "Cabin_B",
          "y": "Cabin_E"
         },
         {
          "font": {
           "size": 8
          },
          "showarrow": false,
          "text": "0.11",
          "x": "Cabin_C",
          "y": "Cabin_E"
         },
         {
          "font": {
           "size": 8
          },
          "showarrow": false,
          "text": "0.08",
          "x": "Cabin_D",
          "y": "Cabin_E"
         },
         {
          "font": {
           "size": 8
          },
          "showarrow": false,
          "text": "1.00",
          "x": "Cabin_E",
          "y": "Cabin_E"
         },
         {
          "font": {
           "size": 8
          },
          "showarrow": false,
          "text": "0.24",
          "x": "Cabin_F",
          "y": "Cabin_E"
         },
         {
          "font": {
           "size": 8
          },
          "showarrow": false,
          "text": "0.22",
          "x": "Cabin_G",
          "y": "Cabin_E"
         },
         {
          "font": {
           "size": 8
          },
          "showarrow": false,
          "text": "0.01",
          "x": "Cabin_T",
          "y": "Cabin_E"
         },
         {
          "font": {
           "size": 8
          },
          "showarrow": false,
          "text": "0.07",
          "x": "Destination_55 Cancri e",
          "y": "Cabin_E"
         },
         {
          "font": {
           "size": 8
          },
          "showarrow": false,
          "text": "0.05",
          "x": "Destination_PSO J318.5-22",
          "y": "Cabin_E"
         },
         {
          "font": {
           "size": 8
          },
          "showarrow": false,
          "text": "0.10",
          "x": "Destination_TRAPPIST-1e",
          "y": "Cabin_E"
         },
         {
          "font": {
           "size": 8
          },
          "showarrow": false,
          "text": "0.23",
          "x": "CryoSleep",
          "y": "Cabin_F"
         },
         {
          "font": {
           "size": 8
          },
          "showarrow": false,
          "text": "0.02",
          "x": "Age",
          "y": "Cabin_F"
         },
         {
          "font": {
           "size": 8
          },
          "showarrow": false,
          "text": "0.07",
          "x": "VIP",
          "y": "Cabin_F"
         },
         {
          "font": {
           "size": 8
          },
          "showarrow": false,
          "text": "0.09",
          "x": "RoomService",
          "y": "Cabin_F"
         },
         {
          "font": {
           "size": 8
          },
          "showarrow": false,
          "text": "0.14",
          "x": "FoodCourt",
          "y": "Cabin_F"
         },
         {
          "font": {
           "size": 8
          },
          "showarrow": false,
          "text": "0.08",
          "x": "ShoppingMall",
          "y": "Cabin_F"
         },
         {
          "font": {
           "size": 8
          },
          "showarrow": false,
          "text": "0.09",
          "x": "Spa",
          "y": "Cabin_F"
         },
         {
          "font": {
           "size": 8
          },
          "showarrow": false,
          "text": "0.10",
          "x": "VRDeck",
          "y": "Cabin_F"
         },
         {
          "font": {
           "size": 8
          },
          "showarrow": false,
          "text": "0.08",
          "x": "HomePlanet_Earth",
          "y": "Cabin_F"
         },
         {
          "font": {
           "size": 8
          },
          "showarrow": false,
          "text": "0.40",
          "x": "HomePlanet_Europa",
          "y": "Cabin_F"
         },
         {
          "font": {
           "size": 8
          },
          "showarrow": false,
          "text": "0.34",
          "x": "HomePlanet_Mars",
          "y": "Cabin_F"
         },
         {
          "font": {
           "size": 8
          },
          "showarrow": false,
          "text": "0.13",
          "x": "Cabin_A",
          "y": "Cabin_F"
         },
         {
          "font": {
           "size": 8
          },
          "showarrow": false,
          "text": "0.23",
          "x": "Cabin_B",
          "y": "Cabin_F"
         },
         {
          "font": {
           "size": 8
          },
          "showarrow": false,
          "text": "0.22",
          "x": "Cabin_C",
          "y": "Cabin_F"
         },
         {
          "font": {
           "size": 8
          },
          "showarrow": false,
          "text": "0.17",
          "x": "Cabin_D",
          "y": "Cabin_F"
         },
         {
          "font": {
           "size": 8
          },
          "showarrow": false,
          "text": "0.24",
          "x": "Cabin_E",
          "y": "Cabin_F"
         },
         {
          "font": {
           "size": 8
          },
          "showarrow": false,
          "text": "1.00",
          "x": "Cabin_F",
          "y": "Cabin_F"
         },
         {
          "font": {
           "size": 8
          },
          "showarrow": false,
          "text": "0.45",
          "x": "Cabin_G",
          "y": "Cabin_F"
         },
         {
          "font": {
           "size": 8
          },
          "showarrow": false,
          "text": "0.01",
          "x": "Cabin_T",
          "y": "Cabin_F"
         },
         {
          "font": {
           "size": 8
          },
          "showarrow": false,
          "text": "0.11",
          "x": "Destination_55 Cancri e",
          "y": "Cabin_F"
         },
         {
          "font": {
           "size": 8
          },
          "showarrow": false,
          "text": "0.02",
          "x": "Destination_PSO J318.5-22",
          "y": "Cabin_F"
         },
         {
          "font": {
           "size": 8
          },
          "showarrow": false,
          "text": "0.11",
          "x": "Destination_TRAPPIST-1e",
          "y": "Cabin_F"
         },
         {
          "font": {
           "size": 8
          },
          "showarrow": false,
          "text": "0.26",
          "x": "CryoSleep",
          "y": "Cabin_G"
         },
         {
          "font": {
           "size": 8
          },
          "showarrow": false,
          "text": "0.23",
          "x": "Age",
          "y": "Cabin_G"
         },
         {
          "font": {
           "size": 8
          },
          "showarrow": false,
          "text": "0.10",
          "x": "VIP",
          "y": "Cabin_G"
         },
         {
          "font": {
           "size": 8
          },
          "showarrow": false,
          "text": "0.15",
          "x": "RoomService",
          "y": "Cabin_G"
         },
         {
          "font": {
           "size": 8
          },
          "showarrow": false,
          "text": "0.16",
          "x": "FoodCourt",
          "y": "Cabin_G"
         },
         {
          "font": {
           "size": 8
          },
          "showarrow": false,
          "text": "0.12",
          "x": "ShoppingMall",
          "y": "Cabin_G"
         },
         {
          "font": {
           "size": 8
          },
          "showarrow": false,
          "text": "0.13",
          "x": "Spa",
          "y": "Cabin_G"
         },
         {
          "font": {
           "size": 8
          },
          "showarrow": false,
          "text": "0.13",
          "x": "VRDeck",
          "y": "Cabin_G"
         },
         {
          "font": {
           "size": 8
          },
          "showarrow": false,
          "text": "0.60",
          "x": "HomePlanet_Earth",
          "y": "Cabin_G"
         },
         {
          "font": {
           "size": 8
          },
          "showarrow": false,
          "text": "0.38",
          "x": "HomePlanet_Europa",
          "y": "Cabin_G"
         },
         {
          "font": {
           "size": 8
          },
          "showarrow": false,
          "text": "0.33",
          "x": "HomePlanet_Mars",
          "y": "Cabin_G"
         },
         {
          "font": {
           "size": 8
          },
          "showarrow": false,
          "text": "0.12",
          "x": "Cabin_A",
          "y": "Cabin_G"
         },
         {
          "font": {
           "size": 8
          },
          "showarrow": false,
          "text": "0.21",
          "x": "Cabin_B",
          "y": "Cabin_G"
         },
         {
          "font": {
           "size": 8
          },
          "showarrow": false,
          "text": "0.20",
          "x": "Cabin_C",
          "y": "Cabin_G"
         },
         {
          "font": {
           "size": 8
          },
          "showarrow": false,
          "text": "0.16",
          "x": "Cabin_D",
          "y": "Cabin_G"
         },
         {
          "font": {
           "size": 8
          },
          "showarrow": false,
          "text": "0.22",
          "x": "Cabin_E",
          "y": "Cabin_G"
         },
         {
          "font": {
           "size": 8
          },
          "showarrow": false,
          "text": "0.45",
          "x": "Cabin_F",
          "y": "Cabin_G"
         },
         {
          "font": {
           "size": 8
          },
          "showarrow": false,
          "text": "1.00",
          "x": "Cabin_G",
          "y": "Cabin_G"
         },
         {
          "font": {
           "size": 8
          },
          "showarrow": false,
          "text": "0.01",
          "x": "Cabin_T",
          "y": "Cabin_G"
         },
         {
          "font": {
           "size": 8
          },
          "showarrow": false,
          "text": "0.10",
          "x": "Destination_55 Cancri e",
          "y": "Cabin_G"
         },
         {
          "font": {
           "size": 8
          },
          "showarrow": false,
          "text": "0.21",
          "x": "Destination_PSO J318.5-22",
          "y": "Cabin_G"
         },
         {
          "font": {
           "size": 8
          },
          "showarrow": false,
          "text": "0.04",
          "x": "Destination_TRAPPIST-1e",
          "y": "Cabin_G"
         },
         {
          "font": {
           "size": 8
          },
          "showarrow": false,
          "text": "0.01",
          "x": "CryoSleep",
          "y": "Cabin_T"
         },
         {
          "font": {
           "size": 8
          },
          "showarrow": false,
          "text": "0.01",
          "x": "Age",
          "y": "Cabin_T"
         },
         {
          "font": {
           "size": 8
          },
          "showarrow": false,
          "text": "0.00",
          "x": "VIP",
          "y": "Cabin_T"
         },
         {
          "font": {
           "size": 8
          },
          "showarrow": false,
          "text": "0.01",
          "x": "RoomService",
          "y": "Cabin_T"
         },
         {
          "font": {
           "size": 8
          },
          "showarrow": false,
          "text": "0.02",
          "x": "FoodCourt",
          "y": "Cabin_T"
         },
         {
          "font": {
           "size": 8
          },
          "showarrow": false,
          "text": "0.01",
          "x": "ShoppingMall",
          "y": "Cabin_T"
         },
         {
          "font": {
           "size": 8
          },
          "showarrow": false,
          "text": "0.02",
          "x": "Spa",
          "y": "Cabin_T"
         },
         {
          "font": {
           "size": 8
          },
          "showarrow": false,
          "text": "0.01",
          "x": "VRDeck",
          "y": "Cabin_T"
         },
         {
          "font": {
           "size": 8
          },
          "showarrow": false,
          "text": "0.02",
          "x": "HomePlanet_Earth",
          "y": "Cabin_T"
         },
         {
          "font": {
           "size": 8
          },
          "showarrow": false,
          "text": "0.03",
          "x": "HomePlanet_Europa",
          "y": "Cabin_T"
         },
         {
          "font": {
           "size": 8
          },
          "showarrow": false,
          "text": "0.01",
          "x": "HomePlanet_Mars",
          "y": "Cabin_T"
         },
         {
          "font": {
           "size": 8
          },
          "showarrow": false,
          "text": "0.00",
          "x": "Cabin_A",
          "y": "Cabin_T"
         },
         {
          "font": {
           "size": 8
          },
          "showarrow": false,
          "text": "0.01",
          "x": "Cabin_B",
          "y": "Cabin_T"
         },
         {
          "font": {
           "size": 8
          },
          "showarrow": false,
          "text": "0.01",
          "x": "Cabin_C",
          "y": "Cabin_T"
         },
         {
          "font": {
           "size": 8
          },
          "showarrow": false,
          "text": "0.00",
          "x": "Cabin_D",
          "y": "Cabin_T"
         },
         {
          "font": {
           "size": 8
          },
          "showarrow": false,
          "text": "0.01",
          "x": "Cabin_E",
          "y": "Cabin_T"
         },
         {
          "font": {
           "size": 8
          },
          "showarrow": false,
          "text": "0.01",
          "x": "Cabin_F",
          "y": "Cabin_T"
         },
         {
          "font": {
           "size": 8
          },
          "showarrow": false,
          "text": "0.01",
          "x": "Cabin_G",
          "y": "Cabin_T"
         },
         {
          "font": {
           "size": 8
          },
          "showarrow": false,
          "text": "1.00",
          "x": "Cabin_T",
          "y": "Cabin_T"
         },
         {
          "font": {
           "size": 8
          },
          "showarrow": false,
          "text": "0.01",
          "x": "Destination_55 Cancri e",
          "y": "Cabin_T"
         },
         {
          "font": {
           "size": 8
          },
          "showarrow": false,
          "text": "0.01",
          "x": "Destination_PSO J318.5-22",
          "y": "Cabin_T"
         },
         {
          "font": {
           "size": 8
          },
          "showarrow": false,
          "text": "0.01",
          "x": "Destination_TRAPPIST-1e",
          "y": "Cabin_T"
         },
         {
          "font": {
           "size": 8
          },
          "showarrow": false,
          "text": "0.06",
          "x": "CryoSleep",
          "y": "Destination_55 Cancri e"
         },
         {
          "font": {
           "size": 8
          },
          "showarrow": false,
          "text": "0.02",
          "x": "Age",
          "y": "Destination_55 Cancri e"
         },
         {
          "font": {
           "size": 8
          },
          "showarrow": false,
          "text": "0.04",
          "x": "VIP",
          "y": "Destination_55 Cancri e"
         },
         {
          "font": {
           "size": 8
          },
          "showarrow": false,
          "text": "0.03",
          "x": "RoomService",
          "y": "Destination_55 Cancri e"
         },
         {
          "font": {
           "size": 8
          },
          "showarrow": false,
          "text": "0.13",
          "x": "FoodCourt",
          "y": "Destination_55 Cancri e"
         },
         {
          "font": {
           "size": 8
          },
          "showarrow": false,
          "text": "0.01",
          "x": "ShoppingMall",
          "y": "Destination_55 Cancri e"
         },
         {
          "font": {
           "size": 8
          },
          "showarrow": false,
          "text": "0.08",
          "x": "Spa",
          "y": "Destination_55 Cancri e"
         },
         {
          "font": {
           "size": 8
          },
          "showarrow": false,
          "text": "0.09",
          "x": "VRDeck",
          "y": "Destination_55 Cancri e"
         },
         {
          "font": {
           "size": 8
          },
          "showarrow": false,
          "text": "0.15",
          "x": "HomePlanet_Earth",
          "y": "Destination_55 Cancri e"
         },
         {
          "font": {
           "size": 8
          },
          "showarrow": false,
          "text": "0.29",
          "x": "HomePlanet_Europa",
          "y": "Destination_55 Cancri e"
         },
         {
          "font": {
           "size": 8
          },
          "showarrow": false,
          "text": "0.13",
          "x": "HomePlanet_Mars",
          "y": "Destination_55 Cancri e"
         },
         {
          "font": {
           "size": 8
          },
          "showarrow": false,
          "text": "0.09",
          "x": "Cabin_A",
          "y": "Destination_55 Cancri e"
         },
         {
          "font": {
           "size": 8
          },
          "showarrow": false,
          "text": "0.18",
          "x": "Cabin_B",
          "y": "Destination_55 Cancri e"
         },
         {
          "font": {
           "size": 8
          },
          "showarrow": false,
          "text": "0.17",
          "x": "Cabin_C",
          "y": "Destination_55 Cancri e"
         },
         {
          "font": {
           "size": 8
          },
          "showarrow": false,
          "text": "0.02",
          "x": "Cabin_D",
          "y": "Destination_55 Cancri e"
         },
         {
          "font": {
           "size": 8
          },
          "showarrow": false,
          "text": "0.07",
          "x": "Cabin_E",
          "y": "Destination_55 Cancri e"
         },
         {
          "font": {
           "size": 8
          },
          "showarrow": false,
          "text": "0.11",
          "x": "Cabin_F",
          "y": "Destination_55 Cancri e"
         },
         {
          "font": {
           "size": 8
          },
          "showarrow": false,
          "text": "0.10",
          "x": "Cabin_G",
          "y": "Destination_55 Cancri e"
         },
         {
          "font": {
           "size": 8
          },
          "showarrow": false,
          "text": "0.01",
          "x": "Cabin_T",
          "y": "Destination_55 Cancri e"
         },
         {
          "font": {
           "size": 8
          },
          "showarrow": false,
          "text": "1.00",
          "x": "Destination_55 Cancri e",
          "y": "Destination_55 Cancri e"
         },
         {
          "font": {
           "size": 8
          },
          "showarrow": false,
          "text": "0.17",
          "x": "Destination_PSO J318.5-22",
          "y": "Destination_55 Cancri e"
         },
         {
          "font": {
           "size": 8
          },
          "showarrow": false,
          "text": "0.78",
          "x": "Destination_TRAPPIST-1e",
          "y": "Destination_55 Cancri e"
         },
         {
          "font": {
           "size": 8
          },
          "showarrow": false,
          "text": "0.09",
          "x": "CryoSleep",
          "y": "Destination_PSO J318.5-22"
         },
         {
          "font": {
           "size": 8
          },
          "showarrow": false,
          "text": "0.02",
          "x": "Age",
          "y": "Destination_PSO J318.5-22"
         },
         {
          "font": {
           "size": 8
          },
          "showarrow": false,
          "text": "0.00",
          "x": "VIP",
          "y": "Destination_PSO J318.5-22"
         },
         {
          "font": {
           "size": 8
          },
          "showarrow": false,
          "text": "0.06",
          "x": "RoomService",
          "y": "Destination_PSO J318.5-22"
         },
         {
          "font": {
           "size": 8
          },
          "showarrow": false,
          "text": "0.07",
          "x": "FoodCourt",
          "y": "Destination_PSO J318.5-22"
         },
         {
          "font": {
           "size": 8
          },
          "showarrow": false,
          "text": "0.03",
          "x": "ShoppingMall",
          "y": "Destination_PSO J318.5-22"
         },
         {
          "font": {
           "size": 8
          },
          "showarrow": false,
          "text": "0.06",
          "x": "Spa",
          "y": "Destination_PSO J318.5-22"
         },
         {
          "font": {
           "size": 8
          },
          "showarrow": false,
          "text": "0.05",
          "x": "VRDeck",
          "y": "Destination_PSO J318.5-22"
         },
         {
          "font": {
           "size": 8
          },
          "showarrow": false,
          "text": "0.24",
          "x": "HomePlanet_Earth",
          "y": "Destination_PSO J318.5-22"
         },
         {
          "font": {
           "size": 8
          },
          "showarrow": false,
          "text": "0.17",
          "x": "HomePlanet_Europa",
          "y": "Destination_PSO J318.5-22"
         },
         {
          "font": {
           "size": 8
          },
          "showarrow": false,
          "text": "0.12",
          "x": "HomePlanet_Mars",
          "y": "Destination_PSO J318.5-22"
         },
         {
          "font": {
           "size": 8
          },
          "showarrow": false,
          "text": "0.05",
          "x": "Cabin_A",
          "y": "Destination_PSO J318.5-22"
         },
         {
          "font": {
           "size": 8
          },
          "showarrow": false,
          "text": "0.10",
          "x": "Cabin_B",
          "y": "Destination_PSO J318.5-22"
         },
         {
          "font": {
           "size": 8
          },
          "showarrow": false,
          "text": "0.08",
          "x": "Cabin_C",
          "y": "Destination_PSO J318.5-22"
         },
         {
          "font": {
           "size": 8
          },
          "showarrow": false,
          "text": "0.05",
          "x": "Cabin_D",
          "y": "Destination_PSO J318.5-22"
         },
         {
          "font": {
           "size": 8
          },
          "showarrow": false,
          "text": "0.05",
          "x": "Cabin_E",
          "y": "Destination_PSO J318.5-22"
         },
         {
          "font": {
           "size": 8
          },
          "showarrow": false,
          "text": "0.02",
          "x": "Cabin_F",
          "y": "Destination_PSO J318.5-22"
         },
         {
          "font": {
           "size": 8
          },
          "showarrow": false,
          "text": "0.21",
          "x": "Cabin_G",
          "y": "Destination_PSO J318.5-22"
         },
         {
          "font": {
           "size": 8
          },
          "showarrow": false,
          "text": "0.01",
          "x": "Cabin_T",
          "y": "Destination_PSO J318.5-22"
         },
         {
          "font": {
           "size": 8
          },
          "showarrow": false,
          "text": "0.17",
          "x": "Destination_55 Cancri e",
          "y": "Destination_PSO J318.5-22"
         },
         {
          "font": {
           "size": 8
          },
          "showarrow": false,
          "text": "1.00",
          "x": "Destination_PSO J318.5-22",
          "y": "Destination_PSO J318.5-22"
         },
         {
          "font": {
           "size": 8
          },
          "showarrow": false,
          "text": "0.48",
          "x": "Destination_TRAPPIST-1e",
          "y": "Destination_PSO J318.5-22"
         },
         {
          "font": {
           "size": 8
          },
          "showarrow": false,
          "text": "0.12",
          "x": "CryoSleep",
          "y": "Destination_TRAPPIST-1e"
         },
         {
          "font": {
           "size": 8
          },
          "showarrow": false,
          "text": "0.00",
          "x": "Age",
          "y": "Destination_TRAPPIST-1e"
         },
         {
          "font": {
           "size": 8
          },
          "showarrow": false,
          "text": "0.04",
          "x": "VIP",
          "y": "Destination_TRAPPIST-1e"
         },
         {
          "font": {
           "size": 8
          },
          "showarrow": false,
          "text": "0.07",
          "x": "RoomService",
          "y": "Destination_TRAPPIST-1e"
         },
         {
          "font": {
           "size": 8
          },
          "showarrow": false,
          "text": "0.08",
          "x": "FoodCourt",
          "y": "Destination_TRAPPIST-1e"
         },
         {
          "font": {
           "size": 8
          },
          "showarrow": false,
          "text": "0.03",
          "x": "ShoppingMall",
          "y": "Destination_TRAPPIST-1e"
         },
         {
          "font": {
           "size": 8
          },
          "showarrow": false,
          "text": "0.03",
          "x": "Spa",
          "y": "Destination_TRAPPIST-1e"
         },
         {
          "font": {
           "size": 8
          },
          "showarrow": false,
          "text": "0.05",
          "x": "VRDeck",
          "y": "Destination_TRAPPIST-1e"
         },
         {
          "font": {
           "size": 8
          },
          "showarrow": false,
          "text": "0.02",
          "x": "HomePlanet_Earth",
          "y": "Destination_TRAPPIST-1e"
         },
         {
          "font": {
           "size": 8
          },
          "showarrow": false,
          "text": "0.16",
          "x": "HomePlanet_Europa",
          "y": "Destination_TRAPPIST-1e"
         },
         {
          "font": {
           "size": 8
          },
          "showarrow": false,
          "text": "0.19",
          "x": "HomePlanet_Mars",
          "y": "Destination_TRAPPIST-1e"
         },
         {
          "font": {
           "size": 8
          },
          "showarrow": false,
          "text": "0.05",
          "x": "Cabin_A",
          "y": "Destination_TRAPPIST-1e"
         },
         {
          "font": {
           "size": 8
          },
          "showarrow": false,
          "text": "0.10",
          "x": "Cabin_B",
          "y": "Destination_TRAPPIST-1e"
         },
         {
          "font": {
           "size": 8
          },
          "showarrow": false,
          "text": "0.10",
          "x": "Cabin_C",
          "y": "Destination_TRAPPIST-1e"
         },
         {
          "font": {
           "size": 8
          },
          "showarrow": false,
          "text": "0.02",
          "x": "Cabin_D",
          "y": "Destination_TRAPPIST-1e"
         },
         {
          "font": {
           "size": 8
          },
          "showarrow": false,
          "text": "0.10",
          "x": "Cabin_E",
          "y": "Destination_TRAPPIST-1e"
         },
         {
          "font": {
           "size": 8
          },
          "showarrow": false,
          "text": "0.11",
          "x": "Cabin_F",
          "y": "Destination_TRAPPIST-1e"
         },
         {
          "font": {
           "size": 8
          },
          "showarrow": false,
          "text": "0.04",
          "x": "Cabin_G",
          "y": "Destination_TRAPPIST-1e"
         },
         {
          "font": {
           "size": 8
          },
          "showarrow": false,
          "text": "0.01",
          "x": "Cabin_T",
          "y": "Destination_TRAPPIST-1e"
         },
         {
          "font": {
           "size": 8
          },
          "showarrow": false,
          "text": "0.78",
          "x": "Destination_55 Cancri e",
          "y": "Destination_TRAPPIST-1e"
         },
         {
          "font": {
           "size": 8
          },
          "showarrow": false,
          "text": "0.48",
          "x": "Destination_PSO J318.5-22",
          "y": "Destination_TRAPPIST-1e"
         },
         {
          "font": {
           "size": 8
          },
          "showarrow": false,
          "text": "1.00",
          "x": "Destination_TRAPPIST-1e",
          "y": "Destination_TRAPPIST-1e"
         }
        ],
        "coloraxis": {
         "cmax": 1,
         "cmin": -1,
         "colorscale": [
          [
           0,
           "rgb(5,48,97)"
          ],
          [
           0.1,
           "rgb(33,102,172)"
          ],
          [
           0.2,
           "rgb(67,147,195)"
          ],
          [
           0.3,
           "rgb(146,197,222)"
          ],
          [
           0.4,
           "rgb(209,229,240)"
          ],
          [
           0.5,
           "rgb(247,247,247)"
          ],
          [
           0.6,
           "rgb(253,219,199)"
          ],
          [
           0.7,
           "rgb(244,165,130)"
          ],
          [
           0.8,
           "rgb(214,96,77)"
          ],
          [
           0.9,
           "rgb(178,24,43)"
          ],
          [
           1,
           "rgb(103,0,31)"
          ]
         ]
        },
        "height": 700,
        "template": {
         "data": {
          "bar": [
           {
            "error_x": {
             "color": "#2a3f5f"
            },
            "error_y": {
             "color": "#2a3f5f"
            },
            "marker": {
             "line": {
              "color": "#E5ECF6",
              "width": 0.5
             },
             "pattern": {
              "fillmode": "overlay",
              "size": 10,
              "solidity": 0.2
             }
            },
            "type": "bar"
           }
          ],
          "barpolar": [
           {
            "marker": {
             "line": {
              "color": "#E5ECF6",
              "width": 0.5
             },
             "pattern": {
              "fillmode": "overlay",
              "size": 10,
              "solidity": 0.2
             }
            },
            "type": "barpolar"
           }
          ],
          "carpet": [
           {
            "aaxis": {
             "endlinecolor": "#2a3f5f",
             "gridcolor": "white",
             "linecolor": "white",
             "minorgridcolor": "white",
             "startlinecolor": "#2a3f5f"
            },
            "baxis": {
             "endlinecolor": "#2a3f5f",
             "gridcolor": "white",
             "linecolor": "white",
             "minorgridcolor": "white",
             "startlinecolor": "#2a3f5f"
            },
            "type": "carpet"
           }
          ],
          "choropleth": [
           {
            "colorbar": {
             "outlinewidth": 0,
             "ticks": ""
            },
            "type": "choropleth"
           }
          ],
          "contour": [
           {
            "colorbar": {
             "outlinewidth": 0,
             "ticks": ""
            },
            "colorscale": [
             [
              0,
              "#0d0887"
             ],
             [
              0.1111111111111111,
              "#46039f"
             ],
             [
              0.2222222222222222,
              "#7201a8"
             ],
             [
              0.3333333333333333,
              "#9c179e"
             ],
             [
              0.4444444444444444,
              "#bd3786"
             ],
             [
              0.5555555555555556,
              "#d8576b"
             ],
             [
              0.6666666666666666,
              "#ed7953"
             ],
             [
              0.7777777777777778,
              "#fb9f3a"
             ],
             [
              0.8888888888888888,
              "#fdca26"
             ],
             [
              1,
              "#f0f921"
             ]
            ],
            "type": "contour"
           }
          ],
          "contourcarpet": [
           {
            "colorbar": {
             "outlinewidth": 0,
             "ticks": ""
            },
            "type": "contourcarpet"
           }
          ],
          "heatmap": [
           {
            "colorbar": {
             "outlinewidth": 0,
             "ticks": ""
            },
            "colorscale": [
             [
              0,
              "#0d0887"
             ],
             [
              0.1111111111111111,
              "#46039f"
             ],
             [
              0.2222222222222222,
              "#7201a8"
             ],
             [
              0.3333333333333333,
              "#9c179e"
             ],
             [
              0.4444444444444444,
              "#bd3786"
             ],
             [
              0.5555555555555556,
              "#d8576b"
             ],
             [
              0.6666666666666666,
              "#ed7953"
             ],
             [
              0.7777777777777778,
              "#fb9f3a"
             ],
             [
              0.8888888888888888,
              "#fdca26"
             ],
             [
              1,
              "#f0f921"
             ]
            ],
            "type": "heatmap"
           }
          ],
          "heatmapgl": [
           {
            "colorbar": {
             "outlinewidth": 0,
             "ticks": ""
            },
            "colorscale": [
             [
              0,
              "#0d0887"
             ],
             [
              0.1111111111111111,
              "#46039f"
             ],
             [
              0.2222222222222222,
              "#7201a8"
             ],
             [
              0.3333333333333333,
              "#9c179e"
             ],
             [
              0.4444444444444444,
              "#bd3786"
             ],
             [
              0.5555555555555556,
              "#d8576b"
             ],
             [
              0.6666666666666666,
              "#ed7953"
             ],
             [
              0.7777777777777778,
              "#fb9f3a"
             ],
             [
              0.8888888888888888,
              "#fdca26"
             ],
             [
              1,
              "#f0f921"
             ]
            ],
            "type": "heatmapgl"
           }
          ],
          "histogram": [
           {
            "marker": {
             "pattern": {
              "fillmode": "overlay",
              "size": 10,
              "solidity": 0.2
             }
            },
            "type": "histogram"
           }
          ],
          "histogram2d": [
           {
            "colorbar": {
             "outlinewidth": 0,
             "ticks": ""
            },
            "colorscale": [
             [
              0,
              "#0d0887"
             ],
             [
              0.1111111111111111,
              "#46039f"
             ],
             [
              0.2222222222222222,
              "#7201a8"
             ],
             [
              0.3333333333333333,
              "#9c179e"
             ],
             [
              0.4444444444444444,
              "#bd3786"
             ],
             [
              0.5555555555555556,
              "#d8576b"
             ],
             [
              0.6666666666666666,
              "#ed7953"
             ],
             [
              0.7777777777777778,
              "#fb9f3a"
             ],
             [
              0.8888888888888888,
              "#fdca26"
             ],
             [
              1,
              "#f0f921"
             ]
            ],
            "type": "histogram2d"
           }
          ],
          "histogram2dcontour": [
           {
            "colorbar": {
             "outlinewidth": 0,
             "ticks": ""
            },
            "colorscale": [
             [
              0,
              "#0d0887"
             ],
             [
              0.1111111111111111,
              "#46039f"
             ],
             [
              0.2222222222222222,
              "#7201a8"
             ],
             [
              0.3333333333333333,
              "#9c179e"
             ],
             [
              0.4444444444444444,
              "#bd3786"
             ],
             [
              0.5555555555555556,
              "#d8576b"
             ],
             [
              0.6666666666666666,
              "#ed7953"
             ],
             [
              0.7777777777777778,
              "#fb9f3a"
             ],
             [
              0.8888888888888888,
              "#fdca26"
             ],
             [
              1,
              "#f0f921"
             ]
            ],
            "type": "histogram2dcontour"
           }
          ],
          "mesh3d": [
           {
            "colorbar": {
             "outlinewidth": 0,
             "ticks": ""
            },
            "type": "mesh3d"
           }
          ],
          "parcoords": [
           {
            "line": {
             "colorbar": {
              "outlinewidth": 0,
              "ticks": ""
             }
            },
            "type": "parcoords"
           }
          ],
          "pie": [
           {
            "automargin": true,
            "type": "pie"
           }
          ],
          "scatter": [
           {
            "fillpattern": {
             "fillmode": "overlay",
             "size": 10,
             "solidity": 0.2
            },
            "type": "scatter"
           }
          ],
          "scatter3d": [
           {
            "line": {
             "colorbar": {
              "outlinewidth": 0,
              "ticks": ""
             }
            },
            "marker": {
             "colorbar": {
              "outlinewidth": 0,
              "ticks": ""
             }
            },
            "type": "scatter3d"
           }
          ],
          "scattercarpet": [
           {
            "marker": {
             "colorbar": {
              "outlinewidth": 0,
              "ticks": ""
             }
            },
            "type": "scattercarpet"
           }
          ],
          "scattergeo": [
           {
            "marker": {
             "colorbar": {
              "outlinewidth": 0,
              "ticks": ""
             }
            },
            "type": "scattergeo"
           }
          ],
          "scattergl": [
           {
            "marker": {
             "colorbar": {
              "outlinewidth": 0,
              "ticks": ""
             }
            },
            "type": "scattergl"
           }
          ],
          "scattermapbox": [
           {
            "marker": {
             "colorbar": {
              "outlinewidth": 0,
              "ticks": ""
             }
            },
            "type": "scattermapbox"
           }
          ],
          "scatterpolar": [
           {
            "marker": {
             "colorbar": {
              "outlinewidth": 0,
              "ticks": ""
             }
            },
            "type": "scatterpolar"
           }
          ],
          "scatterpolargl": [
           {
            "marker": {
             "colorbar": {
              "outlinewidth": 0,
              "ticks": ""
             }
            },
            "type": "scatterpolargl"
           }
          ],
          "scatterternary": [
           {
            "marker": {
             "colorbar": {
              "outlinewidth": 0,
              "ticks": ""
             }
            },
            "type": "scatterternary"
           }
          ],
          "surface": [
           {
            "colorbar": {
             "outlinewidth": 0,
             "ticks": ""
            },
            "colorscale": [
             [
              0,
              "#0d0887"
             ],
             [
              0.1111111111111111,
              "#46039f"
             ],
             [
              0.2222222222222222,
              "#7201a8"
             ],
             [
              0.3333333333333333,
              "#9c179e"
             ],
             [
              0.4444444444444444,
              "#bd3786"
             ],
             [
              0.5555555555555556,
              "#d8576b"
             ],
             [
              0.6666666666666666,
              "#ed7953"
             ],
             [
              0.7777777777777778,
              "#fb9f3a"
             ],
             [
              0.8888888888888888,
              "#fdca26"
             ],
             [
              1,
              "#f0f921"
             ]
            ],
            "type": "surface"
           }
          ],
          "table": [
           {
            "cells": {
             "fill": {
              "color": "#EBF0F8"
             },
             "line": {
              "color": "white"
             }
            },
            "header": {
             "fill": {
              "color": "#C8D4E3"
             },
             "line": {
              "color": "white"
             }
            },
            "type": "table"
           }
          ]
         },
         "layout": {
          "annotationdefaults": {
           "arrowcolor": "#2a3f5f",
           "arrowhead": 0,
           "arrowwidth": 1
          },
          "autotypenumbers": "strict",
          "coloraxis": {
           "colorbar": {
            "outlinewidth": 0,
            "ticks": ""
           }
          },
          "colorscale": {
           "diverging": [
            [
             0,
             "#8e0152"
            ],
            [
             0.1,
             "#c51b7d"
            ],
            [
             0.2,
             "#de77ae"
            ],
            [
             0.3,
             "#f1b6da"
            ],
            [
             0.4,
             "#fde0ef"
            ],
            [
             0.5,
             "#f7f7f7"
            ],
            [
             0.6,
             "#e6f5d0"
            ],
            [
             0.7,
             "#b8e186"
            ],
            [
             0.8,
             "#7fbc41"
            ],
            [
             0.9,
             "#4d9221"
            ],
            [
             1,
             "#276419"
            ]
           ],
           "sequential": [
            [
             0,
             "#0d0887"
            ],
            [
             0.1111111111111111,
             "#46039f"
            ],
            [
             0.2222222222222222,
             "#7201a8"
            ],
            [
             0.3333333333333333,
             "#9c179e"
            ],
            [
             0.4444444444444444,
             "#bd3786"
            ],
            [
             0.5555555555555556,
             "#d8576b"
            ],
            [
             0.6666666666666666,
             "#ed7953"
            ],
            [
             0.7777777777777778,
             "#fb9f3a"
            ],
            [
             0.8888888888888888,
             "#fdca26"
            ],
            [
             1,
             "#f0f921"
            ]
           ],
           "sequentialminus": [
            [
             0,
             "#0d0887"
            ],
            [
             0.1111111111111111,
             "#46039f"
            ],
            [
             0.2222222222222222,
             "#7201a8"
            ],
            [
             0.3333333333333333,
             "#9c179e"
            ],
            [
             0.4444444444444444,
             "#bd3786"
            ],
            [
             0.5555555555555556,
             "#d8576b"
            ],
            [
             0.6666666666666666,
             "#ed7953"
            ],
            [
             0.7777777777777778,
             "#fb9f3a"
            ],
            [
             0.8888888888888888,
             "#fdca26"
            ],
            [
             1,
             "#f0f921"
            ]
           ]
          },
          "colorway": [
           "#636efa",
           "#EF553B",
           "#00cc96",
           "#ab63fa",
           "#FFA15A",
           "#19d3f3",
           "#FF6692",
           "#B6E880",
           "#FF97FF",
           "#FECB52"
          ],
          "font": {
           "color": "#2a3f5f"
          },
          "geo": {
           "bgcolor": "white",
           "lakecolor": "white",
           "landcolor": "#E5ECF6",
           "showlakes": true,
           "showland": true,
           "subunitcolor": "white"
          },
          "hoverlabel": {
           "align": "left"
          },
          "hovermode": "closest",
          "mapbox": {
           "style": "light"
          },
          "paper_bgcolor": "white",
          "plot_bgcolor": "#E5ECF6",
          "polar": {
           "angularaxis": {
            "gridcolor": "white",
            "linecolor": "white",
            "ticks": ""
           },
           "bgcolor": "#E5ECF6",
           "radialaxis": {
            "gridcolor": "white",
            "linecolor": "white",
            "ticks": ""
           }
          },
          "scene": {
           "xaxis": {
            "backgroundcolor": "#E5ECF6",
            "gridcolor": "white",
            "gridwidth": 2,
            "linecolor": "white",
            "showbackground": true,
            "ticks": "",
            "zerolinecolor": "white"
           },
           "yaxis": {
            "backgroundcolor": "#E5ECF6",
            "gridcolor": "white",
            "gridwidth": 2,
            "linecolor": "white",
            "showbackground": true,
            "ticks": "",
            "zerolinecolor": "white"
           },
           "zaxis": {
            "backgroundcolor": "#E5ECF6",
            "gridcolor": "white",
            "gridwidth": 2,
            "linecolor": "white",
            "showbackground": true,
            "ticks": "",
            "zerolinecolor": "white"
           }
          },
          "shapedefaults": {
           "line": {
            "color": "#2a3f5f"
           }
          },
          "ternary": {
           "aaxis": {
            "gridcolor": "white",
            "linecolor": "white",
            "ticks": ""
           },
           "baxis": {
            "gridcolor": "white",
            "linecolor": "white",
            "ticks": ""
           },
           "bgcolor": "#E5ECF6",
           "caxis": {
            "gridcolor": "white",
            "linecolor": "white",
            "ticks": ""
           }
          },
          "title": {
           "x": 0.05
          },
          "xaxis": {
           "automargin": true,
           "gridcolor": "white",
           "linecolor": "white",
           "ticks": "",
           "title": {
            "standoff": 15
           },
           "zerolinecolor": "white",
           "zerolinewidth": 2
          },
          "yaxis": {
           "automargin": true,
           "gridcolor": "white",
           "linecolor": "white",
           "ticks": "",
           "title": {
            "standoff": 15
           },
           "zerolinecolor": "white",
           "zerolinewidth": 2
          }
         }
        },
        "title": {
         "text": "Correlation Heatmap of Numerical Variables"
        },
        "width": 800,
        "xaxis": {
         "anchor": "y",
         "domain": [
          0,
          1
         ],
         "side": "top",
         "title": {
          "text": ""
         }
        },
        "yaxis": {
         "anchor": "x",
         "autorange": "reversed",
         "domain": [
          0,
          1
         ],
         "title": {
          "text": ""
         }
        }
       }
      }
     },
     "metadata": {},
     "output_type": "display_data"
    }
   ],
   "source": [
    "import plotly.express as px\n",
    "import pandas as pd\n",
    "import numpy as np\n",
    "# Calculate the correlation matrix\n",
    "correlation_matrix = np.abs(spaceship.corr())\n",
    "\n",
    "# Create the heatmap using Plotly Express\n",
    "fig = px.imshow(correlation_matrix,\n",
    "                x=correlation_matrix.columns,\n",
    "                y=correlation_matrix.columns,\n",
    "                color_continuous_scale='RdBu_r',  # Red-Blue diverging color scale\n",
    "                zmin=-1,\n",
    "                zmax=1,\n",
    "                aspect=\"auto\",\n",
    "                title='Correlation Heatmap of Numerical Variables')\n",
    "\n",
    "# Update the layout for better readability\n",
    "fig.update_layout(\n",
    "    xaxis_title=\"\",\n",
    "    yaxis_title=\"\",\n",
    "    xaxis={'side': 'top'},  # Move x-axis labels to the top\n",
    "    width=800,\n",
    "    height=700\n",
    ")\n",
    "\n",
    "# Add correlation values as text annotations\n",
    "for i, row in enumerate(correlation_matrix.values):\n",
    "    for j, value in enumerate(row):\n",
    "        fig.add_annotation(\n",
    "            x=correlation_matrix.columns[j],\n",
    "            y=correlation_matrix.columns[i],\n",
    "            text=f\"{value:.2f}\",\n",
    "            showarrow=False,\n",
    "            font=dict(size=8)\n",
    "        )\n",
    "\n",
    "# Show the plot\n",
    "fig.show()"
   ]
  },
  {
   "cell_type": "code",
   "execution_count": 92,
   "metadata": {},
   "outputs": [
    {
     "data": {
      "text/plain": [
       "Index(['CryoSleep', 'Age', 'VIP', 'RoomService', 'FoodCourt', 'ShoppingMall',\n",
       "       'Spa', 'VRDeck', 'HomePlanet_Earth', 'HomePlanet_Europa',\n",
       "       'HomePlanet_Mars', 'Cabin_A', 'Cabin_B', 'Cabin_C', 'Cabin_D',\n",
       "       'Cabin_E', 'Cabin_F', 'Cabin_G', 'Cabin_T', 'Destination_55 Cancri e',\n",
       "       'Destination_PSO J318.5-22', 'Destination_TRAPPIST-1e'],\n",
       "      dtype='object')"
      ]
     },
     "execution_count": 92,
     "metadata": {},
     "output_type": "execute_result"
    }
   ],
   "source": [
    "X_train.columns"
   ]
  },
  {
   "cell_type": "code",
   "execution_count": 93,
   "metadata": {},
   "outputs": [],
   "source": [
    "#PCA\n",
    "columns_dest=['Destination_55 Cancri e', 'Destination_PSO J318.5-22', 'Destination_TRAPPIST-1e']\n",
    "from sklearn.decomposition import PCA\n",
    "pca_train_destination=PCA(n_components=1)\n",
    "pca_train_destination.fit(X_train[columns_dest])\n",
    "X_train[\"Destination_pca\"]=pca_train_destination.transform(X_train[columns_dest])\n",
    "X_test[\"Destination_pca\"]=pca_train_destination.transform(X_test[columns_dest])"
   ]
  },
  {
   "cell_type": "code",
   "execution_count": null,
   "metadata": {},
   "outputs": [],
   "source": [
    "#PCA para reducir la dimnesión de 'HomePlanet_Earth', 'HomePlanet_Europa','HomePlanet_Mars'\n",
    "columns=['Cabin_A','Cabin_B', 'Cabin_C', 'Cabin_D', 'Cabin_E', 'Cabin_F', 'Cabin_G','Cabin_T']\n",
    "from sklearn.decomposition import PCA\n",
    "pca_train_planet=PCA(n_components=0.7)\n",
    "pca_train_planet.fit(X_train[columns])\n",
    "pca_result_train=pca_train_planet.transform(X_train[columns])\n",
    "\n",
    "num_components = pca_result_train.shape[1]\n",
    "\n",
    "# Crear nombres de columnas genéricos basados en el número de componentes\n",
    "pca_column_names = [f'PCA_cabin_{i+1}' for i in range(num_components)]\n",
    "\n",
    "# Agregar las nuevas columnas al DataFrame X_train\n",
    "X_train[pca_column_names] = pca_result_train\n",
    "\n",
    "pca_result_test=pca_train_planet.transform(X_test[columns])\n",
    "\n",
    "num_components = pca_result_test.shape[1]\n",
    "\n",
    "# Crear nombres de columnas genéricos basados en el número de componentes\n",
    "pca_column_names = [f'PCA_cabin_{i+1}' for i in range(num_components)]\n",
    "\n",
    "# Agregar las nuevas columnas al DataFrame X_train\n",
    "X_test[pca_column_names] = pca_result_test"
   ]
  },
  {
   "cell_type": "code",
   "execution_count": null,
   "metadata": {},
   "outputs": [],
   "source": [
    "#PCA para reducir la dimnesión de 'HomePlanet_Earth', 'HomePlanet_Europa','HomePlanet_Mars'\n",
    "columns=['HomePlanet_Earth', 'HomePlanet_Europa','HomePlanet_Mars']\n",
    "from sklearn.decomposition import PCA\n",
    "pca_train_planet=PCA(n_components=1)\n",
    "pca_train_planet.fit(X_train[columns])\n",
    "X_train['homeplanet_PCA']=pca_train_planet.transform(X_train[columns])\n",
    "X_test['homeplanet_PCA']=pca_train_planet.transform(X_test[columns])"
   ]
  },
  {
   "cell_type": "code",
   "execution_count": null,
   "metadata": {},
   "outputs": [],
   "source": [
    "features_selected=['CryoSleep', 'Age', 'VIP', 'RoomService', 'FoodCourt', 'ShoppingMall',\n",
    "       'Spa', 'VRDeck','Destination_PCA', 'PCA_cabin_1', 'PCA_cabin_2', 'PCA_cabin_3',\n",
    "       'homeplanet_PCA']"
   ]
  },
  {
   "cell_type": "code",
   "execution_count": null,
   "metadata": {},
   "outputs": [],
   "source": [
    "from sklearn.neighbors import KNeighborsClassifier\n",
    "\n",
    "from sklearn.metrics import precision_score, recall_score, f1_score, classification_report\n",
    "\n",
    "knn = KNeighborsClassifier(n_neighbors=10)\n",
    "\n",
    "knn.fit(X_train, y_train)\n",
    "\n",
    "pred = knn.predict(X_test)\n",
    "pred\n",
    "\n",
    "# Assuming 'y_test' are the true labels and 'pred' are the model's predictions\n",
    "\n",
    "\n",
    "# Complete classification report\n",
    "report = classification_report(y_test, pred)\n",
    "print(report)"
   ]
  },
  {
   "cell_type": "code",
   "execution_count": null,
   "metadata": {},
   "outputs": [],
   "source": [
    "\"\"\"\n",
    "Tengo variables:\n",
    "Numéricas continuas\n",
    "Binarias (provenientes de object y resultantes de get_dummies)\n",
    "El análisis de correlación lineal aplicado a todo, es aceptable?\n",
    "\n",
    "Divido datos en features y target\n",
    "Obtengo df de X_train, X_test, etc.\n",
    "\n",
    "--> aquí entra la estandarización y normalización\n",
    "\n",
    "SI aplico PCA para generar un único vector para las variables VIP:\n",
    "-VIP, proviene de 2 variables binarias. ¿Se estandariza y normaliza? NO, i solo incluyo una de ellas\n",
    "\n",
    "nunca normalizar ni normalizar antes de Split\n",
    "\n",
    "-Cabin, proviene de 8 variables binarias. ¿Se estandariza y normaliza? no se tienen que normalizar ni estandarizan, tampoco los datos que se tratan de lo mismo. (precios entre precios, etc)\n",
    "\n",
    "El PCA se entrena con X_train y se aplica a Xtrain y Xtest?\n",
    "\n",
    "cuando tengo dos cstegorias binarias, elimino una de ellas cuando están tan relacionadas\n",
    "\n",
    "EL PCA SE APLICA DESPUÉS DEL SPLIT, EL PCA SE GUARDA EN PKL\n",
    "\n",
    "\"\"\""
   ]
  }
 ],
 "metadata": {
  "kernelspec": {
   "display_name": "base",
   "language": "python",
   "name": "python3"
  },
  "language_info": {
   "codemirror_mode": {
    "name": "ipython",
    "version": 3
   },
   "file_extension": ".py",
   "mimetype": "text/x-python",
   "name": "python",
   "nbconvert_exporter": "python",
   "pygments_lexer": "ipython3",
   "version": "3.12.3"
  }
 },
 "nbformat": 4,
 "nbformat_minor": 2
}
